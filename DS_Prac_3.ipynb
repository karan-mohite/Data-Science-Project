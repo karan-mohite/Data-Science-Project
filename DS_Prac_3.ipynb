{
 "cells": [
  {
   "cell_type": "code",
   "execution_count": 2,
   "id": "2d863a0f-56f7-429c-8437-238666001111",
   "metadata": {},
   "outputs": [
    {
     "name": "stdout",
     "output_type": "stream",
     "text": [
      "Summary statistics by age group:\n",
      "\n",
      "                   mean   median    min    max          std\n",
      "age_group                                                  \n",
      "18-25      26333.333333  26000.0  25000  28000  1527.525232\n",
      "26-35      41500.000000  41500.0  40000  43000  1290.994449\n",
      "36-45      51000.000000  51000.0  50000  52000  1000.000000\n",
      "\n",
      "List of numeric values per age group:\n",
      "18-25: [25000, 28000, 26000]\n",
      "26-35: [40000, 42000, 41000, 43000]\n",
      "36-45: [50000, 52000, 51000]\n"
     ]
    }
   ],
   "source": [
    "import pandas as pd\n",
    "\n",
    "# Load dataset (replace 'data.csv' with your actual file)\n",
    "df = pd.read_csv('data (1).csv')\n",
    "\n",
    "# Group by the categorical variable (e.g., 'age_group')\n",
    "grouped = df.groupby('age_group')['income']\n",
    "\n",
    "# Calculate summary statistics\n",
    "summary = grouped.agg(['mean', 'median', 'min', 'max', 'std'])\n",
    "\n",
    "print(\"Summary statistics by age group:\\n\")\n",
    "print(summary)\n",
    "\n",
    "# Create list of numeric values for each category\n",
    "numeric_lists = grouped.apply(list).to_dict()\n",
    "\n",
    "print(\"\\nList of numeric values per age group:\")\n",
    "for group, values in numeric_lists.items():\n",
    "    print(f\"{group}: {values}\")\n"
   ]
  },
  {
   "cell_type": "code",
   "execution_count": 3,
   "id": "0a4e410b-e2fd-4c0d-9ad6-bb1a5623cfbc",
   "metadata": {},
   "outputs": [
    {
     "name": "stdout",
     "output_type": "stream",
     "text": [
      "Unique species: ['Iris-setosa' 'Iris-versicolor' 'Iris-virginica']\n",
      "\n",
      "Statistics for Iris-setosa:\n",
      "       sepal_length  sepal_width  petal_length  petal_width\n",
      "count      50.00000    50.000000     50.000000    50.000000\n",
      "mean        5.00600     3.428000      1.462000     0.246000\n",
      "std         0.35249     0.379064      0.173664     0.105386\n",
      "min         4.30000     2.300000      1.000000     0.100000\n",
      "25%         4.80000     3.200000      1.400000     0.200000\n",
      "50%         5.00000     3.400000      1.500000     0.200000\n",
      "75%         5.20000     3.675000      1.575000     0.300000\n",
      "max         5.80000     4.400000      1.900000     0.600000\n",
      "\n",
      "Statistics for Iris-versicolor:\n",
      "       sepal_length  sepal_width  petal_length  petal_width\n",
      "count     50.000000    50.000000     50.000000    50.000000\n",
      "mean       5.936000     2.770000      4.260000     1.326000\n",
      "std        0.516171     0.313798      0.469911     0.197753\n",
      "min        4.900000     2.000000      3.000000     1.000000\n",
      "25%        5.600000     2.525000      4.000000     1.200000\n",
      "50%        5.900000     2.800000      4.350000     1.300000\n",
      "75%        6.300000     3.000000      4.600000     1.500000\n",
      "max        7.000000     3.400000      5.100000     1.800000\n",
      "\n",
      "Statistics for Iris-virginica:\n",
      "       sepal_length  sepal_width  petal_length  petal_width\n",
      "count      50.00000    50.000000     50.000000     50.00000\n",
      "mean        6.58800     2.974000      5.552000      2.02600\n",
      "std         0.63588     0.322497      0.551895      0.27465\n",
      "min         4.90000     2.200000      4.500000      1.40000\n",
      "25%         6.22500     2.800000      5.100000      1.80000\n",
      "50%         6.50000     3.000000      5.550000      2.00000\n",
      "75%         6.90000     3.175000      5.875000      2.30000\n",
      "max         7.90000     3.800000      6.900000      2.50000\n"
     ]
    }
   ],
   "source": [
    "import pandas as pd\n",
    "\n",
    "# Load iris dataset\n",
    "df = pd.read_csv('iris (1).csv')\n",
    "\n",
    "# Check unique species\n",
    "print(\"Unique species:\", df['species'].unique())\n",
    "\n",
    "# Loop over each species\n",
    "for species in df['species'].unique():\n",
    "    species_data = df[df['species'] == species]\n",
    "    \n",
    "    print(f\"\\nStatistics for {species}:\")\n",
    "\n",
    "    desc = species_data.describe(percentiles=[.25, .5, .75])\n",
    "    print(desc)\n"
   ]
  },
  {
   "cell_type": "code",
   "execution_count": null,
   "id": "d448b1f1-a1c9-457c-aad1-9b69f1d035ae",
   "metadata": {},
   "outputs": [],
   "source": []
  }
 ],
 "metadata": {
  "kernelspec": {
   "display_name": "Python 3 (ipykernel)",
   "language": "python",
   "name": "python3"
  },
  "language_info": {
   "codemirror_mode": {
    "name": "ipython",
    "version": 3
   },
   "file_extension": ".py",
   "mimetype": "text/x-python",
   "name": "python",
   "nbconvert_exporter": "python",
   "pygments_lexer": "ipython3",
   "version": "3.12.0"
  }
 },
 "nbformat": 4,
 "nbformat_minor": 5
}
