{
 "cells": [
  {
   "cell_type": "code",
   "execution_count": 1,
   "id": "ffee8a75-91dc-4604-a8d7-2b934c2bd18a",
   "metadata": {},
   "outputs": [],
   "source": [
    " import pandas as pd\n",
    " import numpy as np\n",
    " import seaborn as sns\n",
    " import matplotlib.pyplot as plt\n",
    " from scipy import stats\n"
   ]
  },
  {
   "cell_type": "code",
   "execution_count": 2,
   "id": "10d86fa1-11ac-4ff3-973a-9179464d5c6c",
   "metadata": {},
   "outputs": [],
   "source": [
    "data= {\n",
    " 'Student_ID': range(1, 11), 'Maths_Score': [85, 92, np.nan, 78, 88, 85, 79, 93, 105, 74],\n",
    " 'English_Score': [78, 85, 90, 82, np.nan, 88, 74, 91, 86, 80], 'Science_Score': [89, 91, 94, 76, 88,\n",
    " np.nan, 72, 85, 98, 74]\n",
    " }\n"
   ]
  },
  {
   "cell_type": "code",
   "execution_count": 3,
   "id": "7fa5acd0-28d2-4d26-b280-6b8b157ce356",
   "metadata": {},
   "outputs": [],
   "source": [
    "df= pd.DataFrame(data)"
   ]
  },
  {
   "cell_type": "code",
   "execution_count": 5,
   "id": "9fa892ad-9f86-447a-9204-04ab020d81ce",
   "metadata": {},
   "outputs": [
    {
     "name": "stdout",
     "output_type": "stream",
     "text": [
      "Initial Dataset:\n",
      "   Student_ID  Maths_Score  English_Score  Science_Score\n",
      "0           1         85.0           78.0           89.0\n",
      "1           2         92.0           85.0           91.0\n",
      "2           3          NaN           90.0           94.0\n",
      "3           4         78.0           82.0           76.0\n",
      "4           5         88.0            NaN           88.0\n",
      "5           6         85.0           88.0            NaN\n",
      "6           7         79.0           74.0           72.0\n",
      "7           8         93.0           91.0           85.0\n",
      "8           9        105.0           86.0           98.0\n",
      "9          10         74.0           80.0           74.0\n"
     ]
    }
   ],
   "source": [
    "print(\"Initial Dataset:\")\n",
    "print(df)"
   ]
  },
  {
   "cell_type": "code",
   "execution_count": 6,
   "id": "ae8b2cc3-7ad5-4947-a49c-9ff8ad56a34b",
   "metadata": {},
   "outputs": [],
   "source": [
    "missing_values = df.isnull().sum()"
   ]
  },
  {
   "cell_type": "code",
   "execution_count": 9,
   "id": "cea2ba9e-9d97-466b-8094-3ad33071c087",
   "metadata": {},
   "outputs": [
    {
     "name": "stdout",
     "output_type": "stream",
     "text": [
      "InMissing values in each column:\n",
      "Student_ID       0\n",
      "Maths_Score      1\n",
      "English_Score    1\n",
      "Science_Score    1\n",
      "dtype: int64\n"
     ]
    }
   ],
   "source": [
    "print(\"InMissing values in each column:\")\n",
    "print(missing_values)"
   ]
  },
  {
   "cell_type": "code",
   "execution_count": 11,
   "id": "7ce6e17f-6060-4f7b-9f14-efc0bbf95361",
   "metadata": {},
   "outputs": [
    {
     "name": "stdout",
     "output_type": "stream",
     "text": [
      "InDataset after handling missing values:\n",
      "   Student_ID  Maths_Score  English_Score  Science_Score\n",
      "0           1    85.000000      78.000000      89.000000\n",
      "1           2    92.000000      85.000000      91.000000\n",
      "2           3    86.555556      90.000000      94.000000\n",
      "3           4    78.000000      82.000000      76.000000\n",
      "4           5    88.000000      83.777778      88.000000\n",
      "5           6    85.000000      88.000000      85.222222\n",
      "6           7    79.000000      74.000000      72.000000\n",
      "7           8    93.000000      91.000000      85.000000\n",
      "8           9   105.000000      86.000000      98.000000\n",
      "9          10    74.000000      80.000000      74.000000\n"
     ]
    },
    {
     "name": "stderr",
     "output_type": "stream",
     "text": [
      "C:\\Users\\Shree\\AppData\\Local\\Temp\\ipykernel_4164\\2964642922.py:1: FutureWarning: A value is trying to be set on a copy of a DataFrame or Series through chained assignment using an inplace method.\n",
      "The behavior will change in pandas 3.0. This inplace method will never work because the intermediate object on which we are setting values always behaves as a copy.\n",
      "\n",
      "For example, when doing 'df[col].method(value, inplace=True)', try using 'df.method({col: value}, inplace=True)' or df[col] = df[col].method(value) instead, to perform the operation inplace on the original object.\n",
      "\n",
      "\n",
      "  df['Maths_Score'].fillna(df['Maths_Score'].mean(), inplace=True)\n",
      "C:\\Users\\Shree\\AppData\\Local\\Temp\\ipykernel_4164\\2964642922.py:2: FutureWarning: A value is trying to be set on a copy of a DataFrame or Series through chained assignment using an inplace method.\n",
      "The behavior will change in pandas 3.0. This inplace method will never work because the intermediate object on which we are setting values always behaves as a copy.\n",
      "\n",
      "For example, when doing 'df[col].method(value, inplace=True)', try using 'df.method({col: value}, inplace=True)' or df[col] = df[col].method(value) instead, to perform the operation inplace on the original object.\n",
      "\n",
      "\n",
      "  df['English_Score'].fillna(df['English_Score'].mean(), inplace=True)\n",
      "C:\\Users\\Shree\\AppData\\Local\\Temp\\ipykernel_4164\\2964642922.py:3: FutureWarning: A value is trying to be set on a copy of a DataFrame or Series through chained assignment using an inplace method.\n",
      "The behavior will change in pandas 3.0. This inplace method will never work because the intermediate object on which we are setting values always behaves as a copy.\n",
      "\n",
      "For example, when doing 'df[col].method(value, inplace=True)', try using 'df.method({col: value}, inplace=True)' or df[col] = df[col].method(value) instead, to perform the operation inplace on the original object.\n",
      "\n",
      "\n",
      "  df['Science_Score'].fillna(df['Science_Score'].mean(), inplace=True)\n"
     ]
    }
   ],
   "source": [
    "df['Maths_Score'].fillna(df['Maths_Score'].mean(), inplace=True)\n",
    "df['English_Score'].fillna(df['English_Score'].mean(), inplace=True)\n",
    "df['Science_Score'].fillna(df['Science_Score'].mean(), inplace=True)\n",
    "print(\"InDataset after handling missing values:\")\n",
    "print(df)"
   ]
  },
  {
   "cell_type": "code",
   "execution_count": 14,
   "id": "aaff5adf-409e-4c8e-905e-47804a36ad75",
   "metadata": {},
   "outputs": [
    {
     "name": "stdout",
     "output_type": "stream",
     "text": [
      "nz-scores of the dataset:\n",
      "   Maths_Score  Science_Score  English_Score\n",
      "0     0.185104   4.575997e-01   1.129741e+00\n",
      "1     0.647863   6.998584e-01   2.389837e-01\n",
      "2     0.000000   1.063246e+00   1.216644e+00\n",
      "3     1.018070   1.117082e+00   3.476126e-01\n",
      "4     0.171882   3.364704e-01   2.778678e-15\n",
      "5     0.185104   1.721352e-15   8.255799e-01\n",
      "6     0.899075   1.601599e+00   1.911869e+00\n",
      "7     0.766858   2.691763e-02   1.412176e+00\n",
      "8     2.194800   1.547764e+00   4.345157e-01\n",
      "9     1.494050   1.359340e+00   7.386768e-01\n"
     ]
    }
   ],
   "source": [
    "z_scores =np.abs(stats.zscore(df[['Maths_Score','Science_Score','English_Score' ]]))\n",
    "print(\"nz-scores of the dataset:\")\n",
    "print(z_scores)"
   ]
  },
  {
   "cell_type": "code",
   "execution_count": 16,
   "id": "8c50120b-b1f8-49bc-9577-65f0c169ed49",
   "metadata": {},
   "outputs": [
    {
     "name": "stdout",
     "output_type": "stream",
     "text": [
      "Inoutliers detected (True means outlier):\n",
      "   Maths_Score  Science_Score  English_Score\n",
      "0        False          False          False\n",
      "1        False          False          False\n",
      "2        False          False          False\n",
      "3        False          False          False\n",
      "4        False          False          False\n",
      "5        False          False          False\n",
      "6        False          False          False\n",
      "7        False          False          False\n",
      "8        False          False          False\n",
      "9        False          False          False\n"
     ]
    }
   ],
   "source": [
    "outliers = (z_scores > 3)\n",
    "print(\"Inoutliers detected (True means outlier):\")\n",
    "print(outliers)"
   ]
  },
  {
   "cell_type": "code",
   "execution_count": 18,
   "id": "2e23c12f-ec3c-499a-812e-2d27c5b47498",
   "metadata": {},
   "outputs": [
    {
     "data": {
      "image/png": "[encoded data removed]",
      "text/plain": [
       "<Figure size 1000x600 with 1 Axes>"
      ]
     },
     "metadata": {},
     "output_type": "display_data"
    },
    {
     "name": "stdout",
     "output_type": "stream",
     "text": [
      "   Student_ID  Maths_Score  English_Score  Science_Score  Maths_Score_log\n",
      "0           1    85.000000      78.000000      89.000000         4.454347\n",
      "1           2    92.000000      85.000000      91.000000         4.532599\n",
      "2           3    86.555556      90.000000      94.000000         4.472274\n",
      "3           4    78.000000      82.000000      76.000000         4.369448\n",
      "4           5    88.000000      83.777778      88.000000         4.488636\n",
      "5           6    85.000000      88.000000      85.222222         4.454347\n",
      "6           7    79.000000      74.000000      72.000000         4.382027\n",
      "7           8    93.000000      91.000000      85.000000         4.543295\n",
      "8           9   105.000000      86.000000      98.000000         4.663439\n",
      "9          10    74.000000      80.000000      74.000000         4.317488\n"
     ]
    }
   ],
   "source": [
    "df[ 'Maths_Score_log']=np.log(df['Maths_Score']+1)\n",
    "plt.figure(figsize=(10, 6))\n",
    "sns.histplot(df['Maths_Score'], kde=True, color='blue', label='Original Maths_Score')\n",
    "sns.histplot(df['Maths_Score_log'], kde=True, color='red', label='Log-transformed Maths_Score')\n",
    "plt.legend()\n",
    "plt.title(\"Effect of Log Transformation on Maths_Score\")\n",
    "plt.show()\n",
    "print(df)"
   ]
  },
  {
   "cell_type": "code",
   "execution_count": null,
   "id": "779215b1-944e-4b59-b877-d9be67d7e6df",
   "metadata": {},
   "outputs": [],
   "source": []
  }
 ],
 "metadata": {
  "kernelspec": {
   "display_name": "Python 3 (ipykernel)",
   "language": "python",
   "name": "python3"
  },
  "language_info": {
   "codemirror_mode": {
    "name": "ipython",
    "version": 3
   },
   "file_extension": ".py",
   "mimetype": "text/x-python",
   "name": "python",
   "nbconvert_exporter": "python",
   "pygments_lexer": "ipython3",
   "version": "3.12.7"
  }
 },
 "nbformat": 4,
 "nbformat_minor": 5
}
