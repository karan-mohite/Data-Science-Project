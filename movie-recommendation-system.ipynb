{
 "cells": [
  {
   "cell_type": "code",
   "execution_count": 1,
   "id": "3e016230",
   "metadata": {
    "_cell_guid": "b1076dfc-b9ad-4769-8c92-a6c4dae69d19",
    "_uuid": "8f2839f25d086af736a60e9eeb907d3b93b6e0e5",
    "execution": {
     "iopub.execute_input": "2025-02-02T19:34:50.015961Z",
     "iopub.status.busy": "2025-02-02T19:34:50.015533Z",
     "iopub.status.idle": "2025-02-02T19:34:53.041658Z",
     "shell.execute_reply": "2025-02-02T19:34:53.040488Z"
    },
    "papermill": {
     "duration": 3.041043,
     "end_time": "2025-02-02T19:34:53.043646",
     "exception": false,
     "start_time": "2025-02-02T19:34:50.002603",
     "status": "completed"
    },
    "tags": []
   },
   "outputs": [],
   "source": [
    "import pandas as pd\n",
    "import numpy as np\n",
    "import matplotlib.pyplot as plt\n",
    "import seaborn as sns\n",
    "from sklearn.preprocessing import LabelEncoder, MinMaxScaler, StandardScaler\n",
    "from sklearn.model_selection import train_test_split"
   ]
  },
  {
   "cell_type": "code",
   "execution_count": 2,
   "id": "346c1ef5",
   "metadata": {
    "execution": {
     "iopub.execute_input": "2025-02-02T19:34:53.066955Z",
     "iopub.status.busy": "2025-02-02T19:34:53.066438Z",
     "iopub.status.idle": "2025-02-02T19:34:53.203131Z",
     "shell.execute_reply": "2025-02-02T19:34:53.202007Z"
    },
    "papermill": {
     "duration": 0.150291,
     "end_time": "2025-02-02T19:34:53.205109",
     "exception": false,
     "start_time": "2025-02-02T19:34:53.054818",
     "status": "completed"
    },
    "tags": []
   },
   "outputs": [],
   "source": [
    "# Load the dataset into your Python environment.\n",
    "\n",
    "movies=pd.read_csv(\"/kaggle/input/karan-arun-mohite/top10K-TMDB-movies.csv\")"
   ]
  },
  {
   "cell_type": "code",
   "execution_count": 3,
   "id": "ddcaec8c",
   "metadata": {
    "execution": {
     "iopub.execute_input": "2025-02-02T19:34:53.227424Z",
     "iopub.status.busy": "2025-02-02T19:34:53.226987Z",
     "iopub.status.idle": "2025-02-02T19:34:53.254486Z",
     "shell.execute_reply": "2025-02-02T19:34:53.253234Z"
    },
    "papermill": {
     "duration": 0.04045,
     "end_time": "2025-02-02T19:34:53.256155",
     "exception": false,
     "start_time": "2025-02-02T19:34:53.215705",
     "status": "completed"
    },
    "tags": []
   },
   "outputs": [
    {
     "data": {
      "text/html": [
       "<div>\n",
       "<style scoped>\n",
       "    .dataframe tbody tr th:only-of-type {\n",
       "        vertical-align: middle;\n",
       "    }\n",
       "\n",
       "    .dataframe tbody tr th {\n",
       "        vertical-align: top;\n",
       "    }\n",
       "\n",
       "    .dataframe thead th {\n",
       "        text-align: right;\n",
       "    }\n",
       "</style>\n",
       "<table border=\"1\" class=\"dataframe\">\n",
       "  <thead>\n",
       "    <tr style=\"text-align: right;\">\n",
       "      <th></th>\n",
       "      <th>id</th>\n",
       "      <th>title</th>\n",
       "      <th>genre</th>\n",
       "      <th>original_language</th>\n",
       "      <th>overview</th>\n",
       "      <th>popularity</th>\n",
       "      <th>release_date</th>\n",
       "      <th>vote_average</th>\n",
       "      <th>vote_count</th>\n",
       "    </tr>\n",
       "  </thead>\n",
       "  <tbody>\n",
       "    <tr>\n",
       "      <th>0</th>\n",
       "      <td>278</td>\n",
       "      <td>The Shawshank Redemption</td>\n",
       "      <td>Drama,Crime</td>\n",
       "      <td>en</td>\n",
       "      <td>Framed in the 1940s for the double murder of h...</td>\n",
       "      <td>94.075</td>\n",
       "      <td>1994-09-23</td>\n",
       "      <td>8.7</td>\n",
       "      <td>21862</td>\n",
       "    </tr>\n",
       "    <tr>\n",
       "      <th>1</th>\n",
       "      <td>19404</td>\n",
       "      <td>Dilwale Dulhania Le Jayenge</td>\n",
       "      <td>Comedy,Drama,Romance</td>\n",
       "      <td>hi</td>\n",
       "      <td>Raj is a rich, carefree, happy-go-lucky second...</td>\n",
       "      <td>25.408</td>\n",
       "      <td>1995-10-19</td>\n",
       "      <td>8.7</td>\n",
       "      <td>3731</td>\n",
       "    </tr>\n",
       "    <tr>\n",
       "      <th>2</th>\n",
       "      <td>238</td>\n",
       "      <td>The Godfather</td>\n",
       "      <td>Drama,Crime</td>\n",
       "      <td>en</td>\n",
       "      <td>Spanning the years 1945 to 1955, a chronicle o...</td>\n",
       "      <td>90.585</td>\n",
       "      <td>1972-03-14</td>\n",
       "      <td>8.7</td>\n",
       "      <td>16280</td>\n",
       "    </tr>\n",
       "    <tr>\n",
       "      <th>3</th>\n",
       "      <td>424</td>\n",
       "      <td>Schindler's List</td>\n",
       "      <td>Drama,History,War</td>\n",
       "      <td>en</td>\n",
       "      <td>The true story of how businessman Oskar Schind...</td>\n",
       "      <td>44.761</td>\n",
       "      <td>1993-12-15</td>\n",
       "      <td>8.6</td>\n",
       "      <td>12959</td>\n",
       "    </tr>\n",
       "    <tr>\n",
       "      <th>4</th>\n",
       "      <td>240</td>\n",
       "      <td>The Godfather: Part II</td>\n",
       "      <td>Drama,Crime</td>\n",
       "      <td>en</td>\n",
       "      <td>In the continuing saga of the Corleone crime f...</td>\n",
       "      <td>57.749</td>\n",
       "      <td>1974-12-20</td>\n",
       "      <td>8.6</td>\n",
       "      <td>9811</td>\n",
       "    </tr>\n",
       "  </tbody>\n",
       "</table>\n",
       "</div>"
      ],
      "text/plain": [
       "      id                        title                 genre original_language  \\\n",
       "0    278     The Shawshank Redemption           Drama,Crime                en   \n",
       "1  19404  Dilwale Dulhania Le Jayenge  Comedy,Drama,Romance                hi   \n",
       "2    238                The Godfather           Drama,Crime                en   \n",
       "3    424             Schindler's List     Drama,History,War                en   \n",
       "4    240       The Godfather: Part II           Drama,Crime                en   \n",
       "\n",
       "                                            overview  popularity release_date  \\\n",
       "0  Framed in the 1940s for the double murder of h...      94.075   1994-09-23   \n",
       "1  Raj is a rich, carefree, happy-go-lucky second...      25.408   1995-10-19   \n",
       "2  Spanning the years 1945 to 1955, a chronicle o...      90.585   1972-03-14   \n",
       "3  The true story of how businessman Oskar Schind...      44.761   1993-12-15   \n",
       "4  In the continuing saga of the Corleone crime f...      57.749   1974-12-20   \n",
       "\n",
       "   vote_average  vote_count  \n",
       "0           8.7       21862  \n",
       "1           8.7        3731  \n",
       "2           8.7       16280  \n",
       "3           8.6       12959  \n",
       "4           8.6        9811  "
      ]
     },
     "execution_count": 3,
     "metadata": {},
     "output_type": "execute_result"
    }
   ],
   "source": [
    "# Display the top 5 rows to get a sense of the data's structure.\n",
    "\n",
    "movies.head(5)"
   ]
  },
  {
   "cell_type": "code",
   "execution_count": 4,
   "id": "1b2acb9f",
   "metadata": {
    "execution": {
     "iopub.execute_input": "2025-02-02T19:34:53.279336Z",
     "iopub.status.busy": "2025-02-02T19:34:53.278992Z",
     "iopub.status.idle": "2025-02-02T19:34:53.286016Z",
     "shell.execute_reply": "2025-02-02T19:34:53.285026Z"
    },
    "papermill": {
     "duration": 0.020251,
     "end_time": "2025-02-02T19:34:53.287516",
     "exception": false,
     "start_time": "2025-02-02T19:34:53.267265",
     "status": "completed"
    },
    "tags": []
   },
   "outputs": [
    {
     "data": {
      "text/plain": [
       "id                     int64\n",
       "title                 object\n",
       "genre                 object\n",
       "original_language     object\n",
       "overview              object\n",
       "popularity           float64\n",
       "release_date          object\n",
       "vote_average         float64\n",
       "vote_count             int64\n",
       "dtype: object"
      ]
     },
     "execution_count": 4,
     "metadata": {},
     "output_type": "execute_result"
    }
   ],
   "source": [
    "\n",
    "#Check the data types of each column to understand the variables.\n",
    "movies.dtypes"
   ]
  },
  {
   "cell_type": "code",
   "execution_count": 5,
   "id": "a8a38606",
   "metadata": {
    "execution": {
     "iopub.execute_input": "2025-02-02T19:34:53.312334Z",
     "iopub.status.busy": "2025-02-02T19:34:53.311980Z",
     "iopub.status.idle": "2025-02-02T19:34:53.317363Z",
     "shell.execute_reply": "2025-02-02T19:34:53.316493Z"
    },
    "papermill": {
     "duration": 0.019934,
     "end_time": "2025-02-02T19:34:53.318840",
     "exception": false,
     "start_time": "2025-02-02T19:34:53.298906",
     "status": "completed"
    },
    "tags": []
   },
   "outputs": [
    {
     "data": {
      "text/plain": [
       "(10000, 9)"
      ]
     },
     "execution_count": 5,
     "metadata": {},
     "output_type": "execute_result"
    }
   ],
   "source": [
    "# Determine the dataset's size (number of rows & columns).\n",
    "\n",
    "movies.shape"
   ]
  },
  {
   "cell_type": "code",
   "execution_count": 6,
   "id": "375dbeac",
   "metadata": {
    "execution": {
     "iopub.execute_input": "2025-02-02T19:34:53.342191Z",
     "iopub.status.busy": "2025-02-02T19:34:53.341817Z",
     "iopub.status.idle": "2025-02-02T19:34:53.349270Z",
     "shell.execute_reply": "2025-02-02T19:34:53.348170Z"
    },
    "papermill": {
     "duration": 0.021099,
     "end_time": "2025-02-02T19:34:53.350965",
     "exception": false,
     "start_time": "2025-02-02T19:34:53.329866",
     "status": "completed"
    },
    "tags": []
   },
   "outputs": [
    {
     "data": {
      "text/plain": [
       "90000"
      ]
     },
     "execution_count": 6,
     "metadata": {},
     "output_type": "execute_result"
    }
   ],
   "source": [
    "# Determine the dataset's size (number of rows & columns).\n",
    "\n",
    "movies.size"
   ]
  },
  {
   "cell_type": "code",
   "execution_count": 7,
   "id": "361f6228",
   "metadata": {
    "execution": {
     "iopub.execute_input": "2025-02-02T19:34:53.374578Z",
     "iopub.status.busy": "2025-02-02T19:34:53.374174Z",
     "iopub.status.idle": "2025-02-02T19:34:53.400357Z",
     "shell.execute_reply": "2025-02-02T19:34:53.399253Z"
    },
    "papermill": {
     "duration": 0.040219,
     "end_time": "2025-02-02T19:34:53.402382",
     "exception": false,
     "start_time": "2025-02-02T19:34:53.362163",
     "status": "completed"
    },
    "tags": []
   },
   "outputs": [
    {
     "data": {
      "text/html": [
       "<div>\n",
       "<style scoped>\n",
       "    .dataframe tbody tr th:only-of-type {\n",
       "        vertical-align: middle;\n",
       "    }\n",
       "\n",
       "    .dataframe tbody tr th {\n",
       "        vertical-align: top;\n",
       "    }\n",
       "\n",
       "    .dataframe thead th {\n",
       "        text-align: right;\n",
       "    }\n",
       "</style>\n",
       "<table border=\"1\" class=\"dataframe\">\n",
       "  <thead>\n",
       "    <tr style=\"text-align: right;\">\n",
       "      <th></th>\n",
       "      <th>id</th>\n",
       "      <th>popularity</th>\n",
       "      <th>vote_average</th>\n",
       "      <th>vote_count</th>\n",
       "    </tr>\n",
       "  </thead>\n",
       "  <tbody>\n",
       "    <tr>\n",
       "      <th>count</th>\n",
       "      <td>10000.000000</td>\n",
       "      <td>10000.000000</td>\n",
       "      <td>10000.000000</td>\n",
       "      <td>10000.000000</td>\n",
       "    </tr>\n",
       "    <tr>\n",
       "      <th>mean</th>\n",
       "      <td>161243.505000</td>\n",
       "      <td>34.697267</td>\n",
       "      <td>6.621150</td>\n",
       "      <td>1547.309400</td>\n",
       "    </tr>\n",
       "    <tr>\n",
       "      <th>std</th>\n",
       "      <td>211422.046043</td>\n",
       "      <td>211.684175</td>\n",
       "      <td>0.766231</td>\n",
       "      <td>2648.295789</td>\n",
       "    </tr>\n",
       "    <tr>\n",
       "      <th>min</th>\n",
       "      <td>5.000000</td>\n",
       "      <td>0.600000</td>\n",
       "      <td>4.600000</td>\n",
       "      <td>200.000000</td>\n",
       "    </tr>\n",
       "    <tr>\n",
       "      <th>25%</th>\n",
       "      <td>10127.750000</td>\n",
       "      <td>9.154750</td>\n",
       "      <td>6.100000</td>\n",
       "      <td>315.000000</td>\n",
       "    </tr>\n",
       "    <tr>\n",
       "      <th>50%</th>\n",
       "      <td>30002.500000</td>\n",
       "      <td>13.637500</td>\n",
       "      <td>6.600000</td>\n",
       "      <td>583.500000</td>\n",
       "    </tr>\n",
       "    <tr>\n",
       "      <th>75%</th>\n",
       "      <td>310133.500000</td>\n",
       "      <td>25.651250</td>\n",
       "      <td>7.200000</td>\n",
       "      <td>1460.000000</td>\n",
       "    </tr>\n",
       "    <tr>\n",
       "      <th>max</th>\n",
       "      <td>934761.000000</td>\n",
       "      <td>10436.917000</td>\n",
       "      <td>8.700000</td>\n",
       "      <td>31917.000000</td>\n",
       "    </tr>\n",
       "  </tbody>\n",
       "</table>\n",
       "</div>"
      ],
      "text/plain": [
       "                  id    popularity  vote_average    vote_count\n",
       "count   10000.000000  10000.000000  10000.000000  10000.000000\n",
       "mean   161243.505000     34.697267      6.621150   1547.309400\n",
       "std    211422.046043    211.684175      0.766231   2648.295789\n",
       "min         5.000000      0.600000      4.600000    200.000000\n",
       "25%     10127.750000      9.154750      6.100000    315.000000\n",
       "50%     30002.500000     13.637500      6.600000    583.500000\n",
       "75%    310133.500000     25.651250      7.200000   1460.000000\n",
       "max    934761.000000  10436.917000      8.700000  31917.000000"
      ]
     },
     "execution_count": 7,
     "metadata": {},
     "output_type": "execute_result"
    }
   ],
   "source": [
    "#Generate summary statistics for each column.\n",
    "movies.describe()"
   ]
  },
  {
   "cell_type": "code",
   "execution_count": 8,
   "id": "bf1f1b7b",
   "metadata": {
    "execution": {
     "iopub.execute_input": "2025-02-02T19:34:53.426638Z",
     "iopub.status.busy": "2025-02-02T19:34:53.426256Z",
     "iopub.status.idle": "2025-02-02T19:34:53.453235Z",
     "shell.execute_reply": "2025-02-02T19:34:53.451845Z"
    },
    "papermill": {
     "duration": 0.040802,
     "end_time": "2025-02-02T19:34:53.454992",
     "exception": false,
     "start_time": "2025-02-02T19:34:53.414190",
     "status": "completed"
    },
    "tags": []
   },
   "outputs": [
    {
     "name": "stdout",
     "output_type": "stream",
     "text": [
      "<class 'pandas.core.frame.DataFrame'>\n",
      "RangeIndex: 10000 entries, 0 to 9999\n",
      "Data columns (total 9 columns):\n",
      " #   Column             Non-Null Count  Dtype  \n",
      "---  ------             --------------  -----  \n",
      " 0   id                 10000 non-null  int64  \n",
      " 1   title              10000 non-null  object \n",
      " 2   genre              9997 non-null   object \n",
      " 3   original_language  10000 non-null  object \n",
      " 4   overview           9987 non-null   object \n",
      " 5   popularity         10000 non-null  float64\n",
      " 6   release_date       10000 non-null  object \n",
      " 7   vote_average       10000 non-null  float64\n",
      " 8   vote_count         10000 non-null  int64  \n",
      "dtypes: float64(2), int64(2), object(5)\n",
      "memory usage: 703.2+ KB\n"
     ]
    }
   ],
   "source": [
    "movies.info()"
   ]
  },
  {
   "cell_type": "code",
   "execution_count": 9,
   "id": "b19ca888",
   "metadata": {
    "execution": {
     "iopub.execute_input": "2025-02-02T19:34:53.479741Z",
     "iopub.status.busy": "2025-02-02T19:34:53.479321Z",
     "iopub.status.idle": "2025-02-02T19:34:53.494138Z",
     "shell.execute_reply": "2025-02-02T19:34:53.493097Z"
    },
    "papermill": {
     "duration": 0.028881,
     "end_time": "2025-02-02T19:34:53.495709",
     "exception": false,
     "start_time": "2025-02-02T19:34:53.466828",
     "status": "completed"
    },
    "tags": []
   },
   "outputs": [
    {
     "name": "stdout",
     "output_type": "stream",
     "text": [
      "                    id  popularity  vote_average  vote_count\n",
      "id            1.000000    0.120659     -0.005508   -0.066145\n",
      "popularity    0.120659    1.000000      0.063578    0.092843\n",
      "vote_average -0.005508    0.063578      1.000000    0.267764\n",
      "vote_count   -0.066145    0.092843      0.267764    1.000000\n"
     ]
    },
    {
     "data": {
      "text/plain": [
       "'Correlation measures the relationship between two numerical variables. It tells us how strongly and in what direction they are related.\\n\\nKey Points:\\nCorrelation values range from -1 to 1\\n\\n+1 → Strong Positive Correlation (Both increase together)\\n0 → No Correlation (No relationship)\\n-1 → Strong Negative Correlation (One increases, the other decreases)\\n'"
      ]
     },
     "execution_count": 9,
     "metadata": {},
     "output_type": "execute_result"
    }
   ],
   "source": [
    "\n",
    "# Create a correlation matrix to examine relationships between variables.\n",
    "# Write a few sentences explaining what you see in the correlation matrix.\n",
    "\n",
    "# Compute correlation matrix\n",
    "\n",
    "# Select only numerical columns\n",
    "numeric_movies = movies.select_dtypes(include=['number'])\n",
    "\n",
    "# Compute correlation matrix\n",
    "correlation_matrix = numeric_movies.corr()\n",
    "\n",
    "# Display the correlation matrix\n",
    "print(correlation_matrix)\n",
    "\n",
    "\n",
    "'''Correlation measures the relationship between two numerical variables. It tells us how strongly and in what direction they are related.\n",
    "\n",
    "Key Points:\n",
    "Correlation values range from -1 to 1\n",
    "\n",
    "+1 → Strong Positive Correlation (Both increase together)\n",
    "0 → No Correlation (No relationship)\n",
    "-1 → Strong Negative Correlation (One increases, the other decreases)\n",
    "'''"
   ]
  },
  {
   "cell_type": "code",
   "execution_count": 10,
   "id": "b10aa328",
   "metadata": {
    "execution": {
     "iopub.execute_input": "2025-02-02T19:34:53.520178Z",
     "iopub.status.busy": "2025-02-02T19:34:53.519743Z",
     "iopub.status.idle": "2025-02-02T19:34:53.526012Z",
     "shell.execute_reply": "2025-02-02T19:34:53.524985Z"
    },
    "papermill": {
     "duration": 0.020337,
     "end_time": "2025-02-02T19:34:53.527666",
     "exception": false,
     "start_time": "2025-02-02T19:34:53.507329",
     "status": "completed"
    },
    "tags": []
   },
   "outputs": [
    {
     "data": {
      "text/plain": [
       "array([21862,  3731, 16280, ...,   332,   668,   221])"
      ]
     },
     "execution_count": 10,
     "metadata": {},
     "output_type": "execute_result"
    }
   ],
   "source": [
    "movies['vote_count'].values"
   ]
  },
  {
   "cell_type": "code",
   "execution_count": 11,
   "id": "dbb56ffd",
   "metadata": {
    "execution": {
     "iopub.execute_input": "2025-02-02T19:34:53.552334Z",
     "iopub.status.busy": "2025-02-02T19:34:53.551948Z",
     "iopub.status.idle": "2025-02-02T19:34:53.558287Z",
     "shell.execute_reply": "2025-02-02T19:34:53.557165Z"
    },
    "papermill": {
     "duration": 0.020981,
     "end_time": "2025-02-02T19:34:53.560226",
     "exception": false,
     "start_time": "2025-02-02T19:34:53.539245",
     "status": "completed"
    },
    "tags": []
   },
   "outputs": [
    {
     "data": {
      "text/plain": [
       "Index(['id', 'title', 'genre', 'original_language', 'overview', 'popularity',\n",
       "       'release_date', 'vote_average', 'vote_count'],\n",
       "      dtype='object')"
      ]
     },
     "execution_count": 11,
     "metadata": {},
     "output_type": "execute_result"
    }
   ],
   "source": [
    "movies.columns"
   ]
  },
  {
   "cell_type": "code",
   "execution_count": 12,
   "id": "43b018ba",
   "metadata": {
    "execution": {
     "iopub.execute_input": "2025-02-02T19:34:53.584921Z",
     "iopub.status.busy": "2025-02-02T19:34:53.584565Z",
     "iopub.status.idle": "2025-02-02T19:34:53.590505Z",
     "shell.execute_reply": "2025-02-02T19:34:53.589220Z"
    },
    "papermill": {
     "duration": 0.019995,
     "end_time": "2025-02-02T19:34:53.592119",
     "exception": false,
     "start_time": "2025-02-02T19:34:53.572124",
     "status": "completed"
    },
    "tags": []
   },
   "outputs": [
    {
     "name": "stdout",
     "output_type": "stream",
     "text": [
      "All required columns are present.\n"
     ]
    }
   ],
   "source": [
    "# Data Preparation\n",
    "\n",
    "# Data Cleaning: Describe any data cleaning steps performed.\n",
    "# For example, \"We handled missing values using [imputation method] and removed outliers.\"\n",
    "\n",
    "required_columns = ['vote_count', 'vote_average']\n",
    "missing_columns = [col for col in required_columns if col not in movies.columns]\n",
    "\n",
    "if missing_columns:\n",
    "    print(f\"Missing columns: {missing_columns}\")\n",
    "else:\n",
    "    print(\"All required columns are present.\")\n"
   ]
  },
  {
   "cell_type": "code",
   "execution_count": 13,
   "id": "c5593182",
   "metadata": {
    "execution": {
     "iopub.execute_input": "2025-02-02T19:34:53.616769Z",
     "iopub.status.busy": "2025-02-02T19:34:53.616340Z",
     "iopub.status.idle": "2025-02-02T19:34:53.628560Z",
     "shell.execute_reply": "2025-02-02T19:34:53.627651Z"
    },
    "papermill": {
     "duration": 0.026388,
     "end_time": "2025-02-02T19:34:53.630266",
     "exception": false,
     "start_time": "2025-02-02T19:34:53.603878",
     "status": "completed"
    },
    "tags": []
   },
   "outputs": [
    {
     "data": {
      "text/plain": [
       "id                    0\n",
       "title                 0\n",
       "genre                 3\n",
       "original_language     0\n",
       "overview             13\n",
       "popularity            0\n",
       "release_date          0\n",
       "vote_average          0\n",
       "vote_count            0\n",
       "dtype: int64"
      ]
     },
     "execution_count": 13,
     "metadata": {},
     "output_type": "execute_result"
    }
   ],
   "source": [
    "movies.isnull().sum()"
   ]
  },
  {
   "cell_type": "code",
   "execution_count": 14,
   "id": "b14ef589",
   "metadata": {
    "execution": {
     "iopub.execute_input": "2025-02-02T19:34:53.655105Z",
     "iopub.status.busy": "2025-02-02T19:34:53.654705Z",
     "iopub.status.idle": "2025-02-02T19:34:53.668996Z",
     "shell.execute_reply": "2025-02-02T19:34:53.667776Z"
    },
    "papermill": {
     "duration": 0.028622,
     "end_time": "2025-02-02T19:34:53.670761",
     "exception": false,
     "start_time": "2025-02-02T19:34:53.642139",
     "status": "completed"
    },
    "tags": []
   },
   "outputs": [
    {
     "name": "stdout",
     "output_type": "stream",
     "text": [
      "Regression Task - Predicting Popularity\n",
      "0    94.075\n",
      "1    25.408\n",
      "2    90.585\n",
      "3    44.761\n",
      "4    57.749\n",
      "Name: popularity, dtype: float64\n"
     ]
    }
   ],
   "source": [
    "\n",
    "# Specify whether your task is regression or classification.\n",
    "\n",
    "features = [\"vote_average\", \"vote_count\", \"original_language\"]  # Example features\n",
    "\n",
    "# Encoding categorical feature (original_language)\n",
    "label_encoder = LabelEncoder()\n",
    "movies[\"original_language\"] = label_encoder.fit_transform(movies[\"original_language\"])\n",
    "\n",
    "X = movies[features]\n",
    "\n",
    "# Regression Task - Predicting Popularity\n",
    "y_regression = movies[\"popularity\"]  # Numerical target\n",
    "X_train_reg, X_test_reg, y_train_reg, y_test_reg = train_test_split(X, y_regression, test_size=0.2, random_state=42)\n",
    "\n",
    "print(\"Regression Task - Predicting Popularity\")\n",
    "print(y_regression.head())"
   ]
  },
  {
   "cell_type": "code",
   "execution_count": 15,
   "id": "2c58f774",
   "metadata": {
    "execution": {
     "iopub.execute_input": "2025-02-02T19:34:53.697552Z",
     "iopub.status.busy": "2025-02-02T19:34:53.697164Z",
     "iopub.status.idle": "2025-02-02T19:34:53.708395Z",
     "shell.execute_reply": "2025-02-02T19:34:53.707178Z"
    },
    "papermill": {
     "duration": 0.026716,
     "end_time": "2025-02-02T19:34:53.710325",
     "exception": false,
     "start_time": "2025-02-02T19:34:53.683609",
     "status": "completed"
    },
    "tags": []
   },
   "outputs": [
    {
     "name": "stdout",
     "output_type": "stream",
     "text": [
      "Regression Task - Predicting Popularity\n",
      "0    94.075\n",
      "1    25.408\n",
      "2    90.585\n",
      "3    44.761\n",
      "4    57.749\n",
      "Name: popularity, dtype: float64\n"
     ]
    }
   ],
   "source": [
    "#Clearly define the independent variables (features) and the dependent variable (target).\n",
    "\n",
    "\n",
    "movies[\"original_language\"] = label_encoder.fit_transform(movies[\"original_language\"])\n",
    "\n",
    "X = movies[features]  # Feature set\n",
    "\n",
    "# Define dependent variable (target)\n",
    "y_regression = movies[\"popularity\"]  # Target variable for regression\n",
    "\n",
    "# Splitting the dataset into training and testing sets\n",
    "X_train_reg, X_test_reg, y_train_reg, y_test_reg = train_test_split(X, y_regression, test_size=0.2, random_state=42)\n",
    "\n",
    "# Display first few rows of the target variable\n",
    "print(\"Regression Task - Predicting Popularity\")\n",
    "print(y_regression.head())\n",
    "\n"
   ]
  },
  {
   "cell_type": "code",
   "execution_count": 16,
   "id": "f7a9222b",
   "metadata": {
    "execution": {
     "iopub.execute_input": "2025-02-02T19:34:53.736120Z",
     "iopub.status.busy": "2025-02-02T19:34:53.735757Z",
     "iopub.status.idle": "2025-02-02T19:34:53.749192Z",
     "shell.execute_reply": "2025-02-02T19:34:53.747760Z"
    },
    "papermill": {
     "duration": 0.028071,
     "end_time": "2025-02-02T19:34:53.751116",
     "exception": false,
     "start_time": "2025-02-02T19:34:53.723045",
     "status": "completed"
    },
    "tags": []
   },
   "outputs": [
    {
     "name": "stdout",
     "output_type": "stream",
     "text": [
      "Index(['id', 'title', 'genre', 'original_language', 'overview', 'popularity',\n",
      "       'release_date', 'vote_average', 'vote_count'],\n",
      "      dtype='object')\n"
     ]
    }
   ],
   "source": [
    "#Split the dataset into training and test sets for model evaluation.\n",
    "\n",
    "from sklearn.model_selection import train_test_split\n",
    "\n",
    "# Check available columns\n",
    "print(movies.columns)\n",
    "\n",
    "# Define features (X) and target (y)\n",
    "# Update features list based on the actual columns present\n",
    "X = movies[['genre', 'overview']]  # Use available columns\n",
    "y = movies['id']\n",
    "\n",
    "# Split data into training and testing sets\n",
    "X_train, X_test, y_train, y_test = train_test_split(X, y, test_size=0.2, random_state=42)\n",
    "\n",
    "# Result: 80% data for training, 20% for testing\n"
   ]
  },
  {
   "cell_type": "code",
   "execution_count": 17,
   "id": "1f6124c5",
   "metadata": {
    "execution": {
     "iopub.execute_input": "2025-02-02T19:34:53.776616Z",
     "iopub.status.busy": "2025-02-02T19:34:53.776222Z",
     "iopub.status.idle": "2025-02-02T19:34:53.786368Z",
     "shell.execute_reply": "2025-02-02T19:34:53.785148Z"
    },
    "papermill": {
     "duration": 0.024459,
     "end_time": "2025-02-02T19:34:53.787975",
     "exception": false,
     "start_time": "2025-02-02T19:34:53.763516",
     "status": "completed"
    },
    "tags": []
   },
   "outputs": [
    {
     "data": {
      "text/html": [
       "<div>\n",
       "<style scoped>\n",
       "    .dataframe tbody tr th:only-of-type {\n",
       "        vertical-align: middle;\n",
       "    }\n",
       "\n",
       "    .dataframe tbody tr th {\n",
       "        vertical-align: top;\n",
       "    }\n",
       "\n",
       "    .dataframe thead th {\n",
       "        text-align: right;\n",
       "    }\n",
       "</style>\n",
       "<table border=\"1\" class=\"dataframe\">\n",
       "  <thead>\n",
       "    <tr style=\"text-align: right;\">\n",
       "      <th></th>\n",
       "      <th>genre</th>\n",
       "      <th>overview</th>\n",
       "    </tr>\n",
       "  </thead>\n",
       "  <tbody>\n",
       "    <tr>\n",
       "      <th>9254</th>\n",
       "      <td>Horror,Thriller</td>\n",
       "      <td>Deaths tells the story of an all-American guy ...</td>\n",
       "    </tr>\n",
       "    <tr>\n",
       "      <th>1561</th>\n",
       "      <td>Drama</td>\n",
       "      <td>Joe Gideon is at the top of the heap, one of t...</td>\n",
       "    </tr>\n",
       "    <tr>\n",
       "      <th>1670</th>\n",
       "      <td>War,Drama</td>\n",
       "      <td>During World War II, a small group of survivor...</td>\n",
       "    </tr>\n",
       "    <tr>\n",
       "      <th>6087</th>\n",
       "      <td>Adventure,Family,Fantasy</td>\n",
       "      <td>A nine-year-old boy gets a plastic Indian and ...</td>\n",
       "    </tr>\n",
       "    <tr>\n",
       "      <th>6669</th>\n",
       "      <td>Adventure,Comedy,Family,Science Fiction</td>\n",
       "      <td>The scientist father of a teenage girl and boy...</td>\n",
       "    </tr>\n",
       "    <tr>\n",
       "      <th>...</th>\n",
       "      <td>...</td>\n",
       "      <td>...</td>\n",
       "    </tr>\n",
       "    <tr>\n",
       "      <th>5734</th>\n",
       "      <td>Comedy,Horror</td>\n",
       "      <td>Three scouts and lifelong friends join forces ...</td>\n",
       "    </tr>\n",
       "    <tr>\n",
       "      <th>5191</th>\n",
       "      <td>Animation,Comedy,Fantasy</td>\n",
       "      <td>The Simpsons host a Disney+ Day party and ever...</td>\n",
       "    </tr>\n",
       "    <tr>\n",
       "      <th>5390</th>\n",
       "      <td>Comedy,Drama</td>\n",
       "      <td>A couple is going through marital troubles mad...</td>\n",
       "    </tr>\n",
       "    <tr>\n",
       "      <th>860</th>\n",
       "      <td>Fantasy,Drama</td>\n",
       "      <td>A collection of magical tales based upon the a...</td>\n",
       "    </tr>\n",
       "    <tr>\n",
       "      <th>7270</th>\n",
       "      <td>Comedy,Fantasy</td>\n",
       "      <td>A thief and a priest end up magically transpor...</td>\n",
       "    </tr>\n",
       "  </tbody>\n",
       "</table>\n",
       "<p>8000 rows × 2 columns</p>\n",
       "</div>"
      ],
      "text/plain": [
       "                                        genre  \\\n",
       "9254                          Horror,Thriller   \n",
       "1561                                    Drama   \n",
       "1670                                War,Drama   \n",
       "6087                 Adventure,Family,Fantasy   \n",
       "6669  Adventure,Comedy,Family,Science Fiction   \n",
       "...                                       ...   \n",
       "5734                            Comedy,Horror   \n",
       "5191                 Animation,Comedy,Fantasy   \n",
       "5390                             Comedy,Drama   \n",
       "860                             Fantasy,Drama   \n",
       "7270                           Comedy,Fantasy   \n",
       "\n",
       "                                               overview  \n",
       "9254  Deaths tells the story of an all-American guy ...  \n",
       "1561  Joe Gideon is at the top of the heap, one of t...  \n",
       "1670  During World War II, a small group of survivor...  \n",
       "6087  A nine-year-old boy gets a plastic Indian and ...  \n",
       "6669  The scientist father of a teenage girl and boy...  \n",
       "...                                                 ...  \n",
       "5734  Three scouts and lifelong friends join forces ...  \n",
       "5191  The Simpsons host a Disney+ Day party and ever...  \n",
       "5390  A couple is going through marital troubles mad...  \n",
       "860   A collection of magical tales based upon the a...  \n",
       "7270  A thief and a priest end up magically transpor...  \n",
       "\n",
       "[8000 rows x 2 columns]"
      ]
     },
     "execution_count": 17,
     "metadata": {},
     "output_type": "execute_result"
    }
   ],
   "source": [
    "X_train"
   ]
  },
  {
   "cell_type": "code",
   "execution_count": 18,
   "id": "b9d58043",
   "metadata": {
    "execution": {
     "iopub.execute_input": "2025-02-02T19:34:53.814123Z",
     "iopub.status.busy": "2025-02-02T19:34:53.813782Z",
     "iopub.status.idle": "2025-02-02T19:34:53.824682Z",
     "shell.execute_reply": "2025-02-02T19:34:53.823544Z"
    },
    "papermill": {
     "duration": 0.025936,
     "end_time": "2025-02-02T19:34:53.826545",
     "exception": false,
     "start_time": "2025-02-02T19:34:53.800609",
     "status": "completed"
    },
    "tags": []
   },
   "outputs": [
    {
     "data": {
      "text/html": [
       "<div>\n",
       "<style scoped>\n",
       "    .dataframe tbody tr th:only-of-type {\n",
       "        vertical-align: middle;\n",
       "    }\n",
       "\n",
       "    .dataframe tbody tr th {\n",
       "        vertical-align: top;\n",
       "    }\n",
       "\n",
       "    .dataframe thead th {\n",
       "        text-align: right;\n",
       "    }\n",
       "</style>\n",
       "<table border=\"1\" class=\"dataframe\">\n",
       "  <thead>\n",
       "    <tr style=\"text-align: right;\">\n",
       "      <th></th>\n",
       "      <th>genre</th>\n",
       "      <th>overview</th>\n",
       "    </tr>\n",
       "  </thead>\n",
       "  <tbody>\n",
       "    <tr>\n",
       "      <th>6252</th>\n",
       "      <td>Horror,Drama,Thriller</td>\n",
       "      <td>When Nancy is surfing on a secluded beach, she...</td>\n",
       "    </tr>\n",
       "    <tr>\n",
       "      <th>4684</th>\n",
       "      <td>Drama</td>\n",
       "      <td>J.R. is a fatherless boy growing up in the glo...</td>\n",
       "    </tr>\n",
       "    <tr>\n",
       "      <th>1731</th>\n",
       "      <td>Family,Animation,Comedy,Adventure</td>\n",
       "      <td>Asterix and Obelix depart on an adventure to c...</td>\n",
       "    </tr>\n",
       "    <tr>\n",
       "      <th>4742</th>\n",
       "      <td>Drama,Thriller</td>\n",
       "      <td>A truffle hunter who lives alone in the Oregon...</td>\n",
       "    </tr>\n",
       "    <tr>\n",
       "      <th>4521</th>\n",
       "      <td>Comedy</td>\n",
       "      <td>Elle Woods, a fashionable sorority queen, is d...</td>\n",
       "    </tr>\n",
       "    <tr>\n",
       "      <th>...</th>\n",
       "      <td>...</td>\n",
       "      <td>...</td>\n",
       "    </tr>\n",
       "    <tr>\n",
       "      <th>6412</th>\n",
       "      <td>Comedy,Fantasy,Romance</td>\n",
       "      <td>When her scientist ex-boyfriend discovers a po...</td>\n",
       "    </tr>\n",
       "    <tr>\n",
       "      <th>8285</th>\n",
       "      <td>Comedy</td>\n",
       "      <td>A joyous family reunion becomes a hilarious ni...</td>\n",
       "    </tr>\n",
       "    <tr>\n",
       "      <th>7853</th>\n",
       "      <td>Action,Fantasy,Horror,Mystery</td>\n",
       "      <td>On 28 December 1999, the citizens of New York ...</td>\n",
       "    </tr>\n",
       "    <tr>\n",
       "      <th>1095</th>\n",
       "      <td>Drama</td>\n",
       "      <td>Sam, a neurodivergent man, has a daughter with...</td>\n",
       "    </tr>\n",
       "    <tr>\n",
       "      <th>6929</th>\n",
       "      <td>Comedy,Drama</td>\n",
       "      <td>Two highway road workers spend the summer of 1...</td>\n",
       "    </tr>\n",
       "  </tbody>\n",
       "</table>\n",
       "<p>2000 rows × 2 columns</p>\n",
       "</div>"
      ],
      "text/plain": [
       "                                  genre  \\\n",
       "6252              Horror,Drama,Thriller   \n",
       "4684                              Drama   \n",
       "1731  Family,Animation,Comedy,Adventure   \n",
       "4742                     Drama,Thriller   \n",
       "4521                             Comedy   \n",
       "...                                 ...   \n",
       "6412             Comedy,Fantasy,Romance   \n",
       "8285                             Comedy   \n",
       "7853      Action,Fantasy,Horror,Mystery   \n",
       "1095                              Drama   \n",
       "6929                       Comedy,Drama   \n",
       "\n",
       "                                               overview  \n",
       "6252  When Nancy is surfing on a secluded beach, she...  \n",
       "4684  J.R. is a fatherless boy growing up in the glo...  \n",
       "1731  Asterix and Obelix depart on an adventure to c...  \n",
       "4742  A truffle hunter who lives alone in the Oregon...  \n",
       "4521  Elle Woods, a fashionable sorority queen, is d...  \n",
       "...                                                 ...  \n",
       "6412  When her scientist ex-boyfriend discovers a po...  \n",
       "8285  A joyous family reunion becomes a hilarious ni...  \n",
       "7853  On 28 December 1999, the citizens of New York ...  \n",
       "1095  Sam, a neurodivergent man, has a daughter with...  \n",
       "6929  Two highway road workers spend the summer of 1...  \n",
       "\n",
       "[2000 rows x 2 columns]"
      ]
     },
     "execution_count": 18,
     "metadata": {},
     "output_type": "execute_result"
    }
   ],
   "source": [
    "X_test"
   ]
  },
  {
   "cell_type": "code",
   "execution_count": 19,
   "id": "b7bb994f",
   "metadata": {
    "execution": {
     "iopub.execute_input": "2025-02-02T19:34:53.854102Z",
     "iopub.status.busy": "2025-02-02T19:34:53.853682Z",
     "iopub.status.idle": "2025-02-02T19:34:53.861352Z",
     "shell.execute_reply": "2025-02-02T19:34:53.860418Z"
    },
    "papermill": {
     "duration": 0.024069,
     "end_time": "2025-02-02T19:34:53.863245",
     "exception": false,
     "start_time": "2025-02-02T19:34:53.839176",
     "status": "completed"
    },
    "tags": []
   },
   "outputs": [
    {
     "data": {
      "text/plain": [
       "9254     12171\n",
       "1561     16858\n",
       "1670     13321\n",
       "6087     11359\n",
       "6669      9354\n",
       "         ...  \n",
       "5734    273477\n",
       "5191    877183\n",
       "5390    399725\n",
       "860      12516\n",
       "7270    613080\n",
       "Name: id, Length: 8000, dtype: int64"
      ]
     },
     "execution_count": 19,
     "metadata": {},
     "output_type": "execute_result"
    }
   ],
   "source": [
    "y_train"
   ]
  },
  {
   "cell_type": "code",
   "execution_count": 20,
   "id": "4718f410",
   "metadata": {
    "execution": {
     "iopub.execute_input": "2025-02-02T19:34:53.889916Z",
     "iopub.status.busy": "2025-02-02T19:34:53.889551Z",
     "iopub.status.idle": "2025-02-02T19:34:53.896915Z",
     "shell.execute_reply": "2025-02-02T19:34:53.895895Z"
    },
    "papermill": {
     "duration": 0.022696,
     "end_time": "2025-02-02T19:34:53.898689",
     "exception": false,
     "start_time": "2025-02-02T19:34:53.875993",
     "status": "completed"
    },
    "tags": []
   },
   "outputs": [
    {
     "data": {
      "text/plain": [
       "9254     12171\n",
       "1561     16858\n",
       "1670     13321\n",
       "6087     11359\n",
       "6669      9354\n",
       "         ...  \n",
       "5734    273477\n",
       "5191    877183\n",
       "5390    399725\n",
       "860      12516\n",
       "7270    613080\n",
       "Name: id, Length: 8000, dtype: int64"
      ]
     },
     "execution_count": 20,
     "metadata": {},
     "output_type": "execute_result"
    }
   ],
   "source": [
    "y_train"
   ]
  },
  {
   "cell_type": "code",
   "execution_count": 21,
   "id": "d4648732",
   "metadata": {
    "execution": {
     "iopub.execute_input": "2025-02-02T19:34:53.925610Z",
     "iopub.status.busy": "2025-02-02T19:34:53.925172Z",
     "iopub.status.idle": "2025-02-02T19:34:53.941936Z",
     "shell.execute_reply": "2025-02-02T19:34:53.940546Z"
    },
    "papermill": {
     "duration": 0.032285,
     "end_time": "2025-02-02T19:34:53.944018",
     "exception": false,
     "start_time": "2025-02-02T19:34:53.911733",
     "status": "completed"
    },
    "tags": []
   },
   "outputs": [
    {
     "name": "stdout",
     "output_type": "stream",
     "text": [
      "Columns in dataset: Index(['id', 'title', 'genre', 'original_language', 'overview', 'popularity',\n",
      "       'release_date', 'vote_average', 'vote_count'],\n",
      "      dtype='object')\n",
      "Processed Data for Model:\n",
      "   popularity  vote_average\n",
      "0      94.075           8.7\n",
      "1      25.408           8.7\n",
      "2      90.585           8.7\n",
      "3      44.761           8.6\n",
      "4      57.749           8.6\n"
     ]
    }
   ],
   "source": [
    "# Check existing columns\n",
    "print(\"Columns in dataset:\", movies.columns)\n",
    "\n",
    "# Fill missing values for available columns\n",
    "movies = movies.copy()  # Avoid chained assignment warnings\n",
    "movies[\"popularity\"] = movies[\"popularity\"].fillna(movies[\"popularity\"].median())\n",
    "movies[\"vote_average\"] = movies[\"vote_average\"].fillna(movies[\"vote_average\"].median())\n",
    "\n",
    "# If 'vote_count' column is not present, you can skip the following step\n",
    "if 'vote_count' in movies.columns:\n",
    "    movies[\"vote_count\"] = movies[\"vote_count\"].fillna(movies[\"vote_count\"].median())\n",
    "\n",
    "# Select features available in the dataset\n",
    "features = [\"popularity\", \"vote_average\"]  # Only available features\n",
    "X = movies[features]\n",
    "\n",
    "# If 'popularity' is your target variable (for regression task)\n",
    "y_regression = movies[\"popularity\"]\n",
    "\n",
    "# Splitting dataset into training and testing sets\n",
    "X_train, X_test, y_train, y_test = train_test_split(X, y_regression, test_size=0.2, random_state=42)\n",
    "\n",
    "# Display first few rows\n",
    "print(\"Processed Data for Model:\")\n",
    "print(X.head())"
   ]
  },
  {
   "cell_type": "code",
   "execution_count": 22,
   "id": "7b1ea8c1",
   "metadata": {
    "execution": {
     "iopub.execute_input": "2025-02-02T19:34:53.970691Z",
     "iopub.status.busy": "2025-02-02T19:34:53.970273Z",
     "iopub.status.idle": "2025-02-02T19:34:53.990531Z",
     "shell.execute_reply": "2025-02-02T19:34:53.989126Z"
    },
    "papermill": {
     "duration": 0.035644,
     "end_time": "2025-02-02T19:34:53.992433",
     "exception": false,
     "start_time": "2025-02-02T19:34:53.956789",
     "status": "completed"
    },
    "tags": []
   },
   "outputs": [
    {
     "name": "stdout",
     "output_type": "stream",
     "text": [
      "      id                        title                 genre  \\\n",
      "0    278     The Shawshank Redemption           Drama,Crime   \n",
      "1  19404  Dilwale Dulhania Le Jayenge  Comedy,Drama,Romance   \n",
      "2    238                The Godfather           Drama,Crime   \n",
      "3    424             Schindler's List     Drama,History,War   \n",
      "4    240       The Godfather: Part II           Drama,Crime   \n",
      "\n",
      "   original_language                                           overview  \\\n",
      "0                 10  Framed in the 1940s for the double murder of h...   \n",
      "1                 18  Raj is a rich, carefree, happy-go-lucky second...   \n",
      "2                 10  Spanning the years 1945 to 1955, a chronicle o...   \n",
      "3                 10  The true story of how businessman Oskar Schind...   \n",
      "4                 10  In the continuing saga of the Corleone crime f...   \n",
      "\n",
      "   popularity release_date  vote_average  vote_count  log_popularity  \n",
      "0      94.075   1994-09-23           8.7       21862        4.544092  \n",
      "1      25.408   1995-10-19           8.7        3731        3.235064  \n",
      "2      90.585   1972-03-14           8.7       16280        4.506289  \n",
      "3      44.761   1993-12-15           8.6       12959        3.801337  \n",
      "4      57.749   1974-12-20           8.6        9811        4.056106  \n"
     ]
    }
   ],
   "source": [
    "# Creating a new feature 'log_popularity' by applying logarithmic transformation\n",
    "movies[\"log_popularity\"] = np.log(movies[\"popularity\"])\n",
    "\n",
    "# Displaying the first few rows to check the new feature\n",
    "print(movies.head())"
   ]
  },
  {
   "cell_type": "code",
   "execution_count": 23,
   "id": "508fee1d",
   "metadata": {
    "execution": {
     "iopub.execute_input": "2025-02-02T19:34:54.020441Z",
     "iopub.status.busy": "2025-02-02T19:34:54.019995Z",
     "iopub.status.idle": "2025-02-02T19:34:54.035442Z",
     "shell.execute_reply": "2025-02-02T19:34:54.034109Z"
    },
    "papermill": {
     "duration": 0.031132,
     "end_time": "2025-02-02T19:34:54.037312",
     "exception": false,
     "start_time": "2025-02-02T19:34:54.006180",
     "status": "completed"
    },
    "tags": []
   },
   "outputs": [
    {
     "name": "stdout",
     "output_type": "stream",
     "text": [
      "Scaled Data:\n",
      "      id                        title                 genre  \\\n",
      "0    278     The Shawshank Redemption           Drama,Crime   \n",
      "1  19404  Dilwale Dulhania Le Jayenge  Comedy,Drama,Romance   \n",
      "2    238                The Godfather           Drama,Crime   \n",
      "3    424             Schindler's List     Drama,History,War   \n",
      "4    240       The Godfather: Part II           Drama,Crime   \n",
      "\n",
      "   original_language                                           overview  \\\n",
      "0                 10  Framed in the 1940s for the double murder of h...   \n",
      "1                 18  Raj is a rich, carefree, happy-go-lucky second...   \n",
      "2                 10  Spanning the years 1945 to 1955, a chronicle o...   \n",
      "3                 10  The true story of how businessman Oskar Schind...   \n",
      "4                 10  In the continuing saga of the Corleone crime f...   \n",
      "\n",
      "   popularity release_date  vote_average  vote_count  log_popularity  \n",
      "0    0.008957   1994-09-23       1.00000       21862        4.544092  \n",
      "1    0.002377   1995-10-19       1.00000        3731        3.235064  \n",
      "2    0.008622   1972-03-14       1.00000       16280        4.506289  \n",
      "3    0.004231   1993-12-15       0.97561       12959        3.801337  \n",
      "4    0.005476   1974-12-20       0.97561        9811        4.056106  \n"
     ]
    }
   ],
   "source": [
    "# Instantiate the MinMaxScaler\n",
    "scaler = MinMaxScaler()\n",
    "\n",
    "# Select the columns you want to scale\n",
    "columns_to_scale = ['popularity', 'vote_average']\n",
    "\n",
    "# Fit the scaler on the data and transform the selected columns\n",
    "movies[columns_to_scale] = scaler.fit_transform(movies[columns_to_scale])\n",
    "\n",
    "# Display the scaled dataset\n",
    "print(\"Scaled Data:\")\n",
    "print(movies.head())"
   ]
  },
  {
   "cell_type": "code",
   "execution_count": 24,
   "id": "3aaabe2c",
   "metadata": {
    "execution": {
     "iopub.execute_input": "2025-02-02T19:34:54.064892Z",
     "iopub.status.busy": "2025-02-02T19:34:54.064470Z",
     "iopub.status.idle": "2025-02-02T19:34:54.086036Z",
     "shell.execute_reply": "2025-02-02T19:34:54.084801Z"
    },
    "papermill": {
     "duration": 0.037534,
     "end_time": "2025-02-02T19:34:54.088059",
     "exception": false,
     "start_time": "2025-02-02T19:34:54.050525",
     "status": "completed"
    },
    "tags": []
   },
   "outputs": [
    {
     "name": "stdout",
     "output_type": "stream",
     "text": [
      "Standardized Data:\n",
      "      id                        title                 genre  \\\n",
      "0    278     The Shawshank Redemption           Drama,Crime   \n",
      "1  19404  Dilwale Dulhania Le Jayenge  Comedy,Drama,Romance   \n",
      "2    238                The Godfather           Drama,Crime   \n",
      "3    424             Schindler's List     Drama,History,War   \n",
      "4    240       The Godfather: Part II           Drama,Crime   \n",
      "\n",
      "   original_language                                           overview  \\\n",
      "0                 10  Framed in the 1940s for the double murder of h...   \n",
      "1                 18  Raj is a rich, carefree, happy-go-lucky second...   \n",
      "2                 10  Spanning the years 1945 to 1955, a chronicle o...   \n",
      "3                 10  The true story of how businessman Oskar Schind...   \n",
      "4                 10  In the continuing saga of the Corleone crime f...   \n",
      "\n",
      "   popularity release_date  vote_average  vote_count  log_popularity  \n",
      "0    0.280516   1994-09-23      2.713220       21862        4.544092  \n",
      "1   -0.043885   1995-10-19      2.713220        3731        3.235064  \n",
      "2    0.264028   1972-03-14      2.713220       16280        4.506289  \n",
      "3    0.047544   1993-12-15      2.582704       12959        3.801337  \n",
      "4    0.108902   1974-12-20      2.582704        9811        4.056106  \n"
     ]
    }
   ],
   "source": [
    "# Instantiate the StandardScaler\n",
    "scaler = StandardScaler()\n",
    "\n",
    "# Apply standardization\n",
    "movies[columns_to_scale] = scaler.fit_transform(movies[columns_to_scale])\n",
    "\n",
    "# Display the standardized dataset\n",
    "print(\"Standardized Data:\")\n",
    "print(movies.head())"
   ]
  },
  {
   "cell_type": "code",
   "execution_count": 25,
   "id": "cfbe56ad",
   "metadata": {
    "execution": {
     "iopub.execute_input": "2025-02-02T19:34:54.116148Z",
     "iopub.status.busy": "2025-02-02T19:34:54.115671Z",
     "iopub.status.idle": "2025-02-02T19:34:54.613090Z",
     "shell.execute_reply": "2025-02-02T19:34:54.611700Z"
    },
    "papermill": {
     "duration": 0.513716,
     "end_time": "2025-02-02T19:34:54.615075",
     "exception": false,
     "start_time": "2025-02-02T19:34:54.101359",
     "status": "completed"
    },
    "tags": []
   },
   "outputs": [
    {
     "name": "stderr",
     "output_type": "stream",
     "text": [
      "/usr/local/lib/python3.10/dist-packages/seaborn/_oldcore.py:1119: FutureWarning: use_inf_as_na option is deprecated and will be removed in a future version. Convert inf values to NaN before operating instead.\n",
      "  with pd.option_context('mode.use_inf_as_na', True):\n"
     ]
    },
    {
     "data": {
      "image/png": "[encoded data removed]",
      "text/plain": [
       "<Figure size 1000x600 with 1 Axes>"
      ]
     },
     "metadata": {},
     "output_type": "display_data"
    }
   ],
   "source": [
    "# Set the style for seaborn\n",
    "sns.set(style=\"whitegrid\")\n",
    "\n",
    "# 1. Histogram for Popularity\n",
    "plt.figure(figsize=(10, 6))\n",
    "sns.histplot(movies['popularity'], kde=True, color='blue', bins=20)\n",
    "plt.title('Distribution of Popularity')\n",
    "plt.xlabel('Popularity')\n",
    "plt.ylabel('Frequency')\n",
    "plt.show()"
   ]
  },
  {
   "cell_type": "code",
   "execution_count": 26,
   "id": "00bdb81a",
   "metadata": {
    "execution": {
     "iopub.execute_input": "2025-02-02T19:34:54.645269Z",
     "iopub.status.busy": "2025-02-02T19:34:54.644926Z",
     "iopub.status.idle": "2025-02-02T19:34:55.000048Z",
     "shell.execute_reply": "2025-02-02T19:34:54.998896Z"
    },
    "papermill": {
     "duration": 0.371753,
     "end_time": "2025-02-02T19:34:55.001898",
     "exception": false,
     "start_time": "2025-02-02T19:34:54.630145",
     "status": "completed"
    },
    "tags": []
   },
   "outputs": [
    {
     "name": "stderr",
     "output_type": "stream",
     "text": [
      "/usr/local/lib/python3.10/dist-packages/seaborn/_oldcore.py:1119: FutureWarning: use_inf_as_na option is deprecated and will be removed in a future version. Convert inf values to NaN before operating instead.\n",
      "  with pd.option_context('mode.use_inf_as_na', True):\n"
     ]
    },
    {
     "data": {
      "image/png": "[encoded data removed]",
      "text/plain": [
       "<Figure size 1000x600 with 1 Axes>"
      ]
     },
     "metadata": {},
     "output_type": "display_data"
    }
   ],
   "source": [
    "# 2. Histogram for Vote Average\n",
    "plt.figure(figsize=(10, 6))\n",
    "sns.histplot(movies['vote_average'], kde=True, color='green', bins=20)\n",
    "plt.title('Distribution of Vote Average')\n",
    "plt.xlabel('Vote Average')\n",
    "plt.ylabel('Frequency')\n",
    "plt.show()"
   ]
  },
  {
   "cell_type": "code",
   "execution_count": 27,
   "id": "014999a1",
   "metadata": {
    "execution": {
     "iopub.execute_input": "2025-02-02T19:34:55.035439Z",
     "iopub.status.busy": "2025-02-02T19:34:55.035018Z",
     "iopub.status.idle": "2025-02-02T19:34:55.358027Z",
     "shell.execute_reply": "2025-02-02T19:34:55.356945Z"
    },
    "papermill": {
     "duration": 0.342624,
     "end_time": "2025-02-02T19:34:55.359952",
     "exception": false,
     "start_time": "2025-02-02T19:34:55.017328",
     "status": "completed"
    },
    "tags": []
   },
   "outputs": [
    {
     "data": {
      "image/png": "[encoded data removed]",
      "text/plain": [
       "<Figure size 1000x600 with 1 Axes>"
      ]
     },
     "metadata": {},
     "output_type": "display_data"
    }
   ],
   "source": [
    "# 3. Scatter Plot between Popularity and Vote Average\n",
    "plt.figure(figsize=(10, 6))\n",
    "sns.scatterplot(data=movies, x='popularity', y='vote_average', color='purple')\n",
    "plt.title('Scatter Plot between Popularity and Vote Average')\n",
    "plt.xlabel('Popularity')\n",
    "plt.ylabel('Vote Average')\n",
    "plt.show()"
   ]
  },
  {
   "cell_type": "code",
   "execution_count": 28,
   "id": "27d2e873",
   "metadata": {
    "execution": {
     "iopub.execute_input": "2025-02-02T19:34:55.394434Z",
     "iopub.status.busy": "2025-02-02T19:34:55.394042Z",
     "iopub.status.idle": "2025-02-02T19:34:55.606345Z",
     "shell.execute_reply": "2025-02-02T19:34:55.605047Z"
    },
    "papermill": {
     "duration": 0.231419,
     "end_time": "2025-02-02T19:34:55.608281",
     "exception": false,
     "start_time": "2025-02-02T19:34:55.376862",
     "status": "completed"
    },
    "tags": []
   },
   "outputs": [
    {
     "data": {
      "image/png": "[encoded data removed]",
      "text/plain": [
       "<Figure size 1000x600 with 1 Axes>"
      ]
     },
     "metadata": {},
     "output_type": "display_data"
    }
   ],
   "source": [
    "# 4. Box Plot for Popularity (to check for outliers)\n",
    "plt.figure(figsize=(10, 6))\n",
    "sns.boxplot(x=movies['popularity'], color='red')\n",
    "plt.title('Box Plot of Popularity')\n",
    "plt.xlabel('Popularity')\n",
    "plt.show()"
   ]
  },
  {
   "cell_type": "code",
   "execution_count": 29,
   "id": "ba14111a",
   "metadata": {
    "execution": {
     "iopub.execute_input": "2025-02-02T19:34:55.643883Z",
     "iopub.status.busy": "2025-02-02T19:34:55.643492Z",
     "iopub.status.idle": "2025-02-02T19:34:55.935220Z",
     "shell.execute_reply": "2025-02-02T19:34:55.934025Z"
    },
    "papermill": {
     "duration": 0.31214,
     "end_time": "2025-02-02T19:34:55.937095",
     "exception": false,
     "start_time": "2025-02-02T19:34:55.624955",
     "status": "completed"
    },
    "tags": []
   },
   "outputs": [
    {
     "data": {
      "image/png": "[encoded data removed]",
      "text/plain": [
       "<Figure size 1000x600 with 1 Axes>"
      ]
     },
     "metadata": {},
     "output_type": "display_data"
    }
   ],
   "source": [
    "# 5. Box Plot for Vote Average (to check for outliers)\n",
    "plt.figure(figsize=(10, 6))\n",
    "sns.boxplot(x=movies['vote_average'], color='orange')\n",
    "plt.title('Box Plot of Vote Average')\n",
    "plt.xlabel('Vote Average')\n",
    "plt.show()"
   ]
  },
  {
   "cell_type": "code",
   "execution_count": 30,
   "id": "fb54f89a",
   "metadata": {
    "execution": {
     "iopub.execute_input": "2025-02-02T19:34:55.972698Z",
     "iopub.status.busy": "2025-02-02T19:34:55.972292Z",
     "iopub.status.idle": "2025-02-02T19:34:55.977760Z",
     "shell.execute_reply": "2025-02-02T19:34:55.976694Z"
    },
    "papermill": {
     "duration": 0.025591,
     "end_time": "2025-02-02T19:34:55.979866",
     "exception": false,
     "start_time": "2025-02-02T19:34:55.954275",
     "status": "completed"
    },
    "tags": []
   },
   "outputs": [],
   "source": [
    "# Detect Outliers using IQR Method\n",
    "def detect_outliers_iqr(df, column):\n",
    "    Q1 = df[column].quantile(0.25)\n",
    "    Q3 = df[column].quantile(0.75)\n",
    "    IQR = Q3 - Q1\n",
    "    lower_bound = Q1 - 1.5 * IQR\n",
    "    upper_bound = Q3 + 1.5 * IQR\n",
    "    \n",
    "    # Identify outliers\n",
    "    outliers = df[(df[column] < lower_bound) | (df[column] > upper_bound)]\n",
    "    return outliers, lower_bound, upper_bound"
   ]
  },
  {
   "cell_type": "code",
   "execution_count": 31,
   "id": "6a63c297",
   "metadata": {
    "execution": {
     "iopub.execute_input": "2025-02-02T19:34:56.016049Z",
     "iopub.status.busy": "2025-02-02T19:34:56.015667Z",
     "iopub.status.idle": "2025-02-02T19:34:56.030200Z",
     "shell.execute_reply": "2025-02-02T19:34:56.028619Z"
    },
    "papermill": {
     "duration": 0.035034,
     "end_time": "2025-02-02T19:34:56.032322",
     "exception": false,
     "start_time": "2025-02-02T19:34:55.997288",
     "status": "completed"
    },
    "tags": []
   },
   "outputs": [
    {
     "name": "stdout",
     "output_type": "stream",
     "text": [
      "Outliers in Popularity: \n",
      "          id                                  title                     genre  \\\n",
      "0        278               The Shawshank Redemption               Drama,Crime   \n",
      "2        238                          The Godfather               Drama,Crime   \n",
      "4        240                 The Godfather: Part II               Drama,Crime   \n",
      "6        129                          Spirited Away  Animation,Family,Fantasy   \n",
      "7     730154                         Your Eyes Tell             Romance,Drama   \n",
      "...      ...                                    ...                       ...   \n",
      "9930    4258                          Scary Movie 5                    Comedy   \n",
      "9952   74997  The Human Centipede 2 (Full Sequence)        Drama,Horror,Crime   \n",
      "9963  765119                             The Bubble                    Comedy   \n",
      "9992  853588                                   Prey                  Thriller   \n",
      "9995   10196                     The Last Airbender  Action,Adventure,Fantasy   \n",
      "\n",
      "      original_language                                           overview  \\\n",
      "0                    10  Framed in the 1940s for the double murder of h...   \n",
      "2                    10  Spanning the years 1945 to 1955, a chronicle o...   \n",
      "4                    10  In the continuing saga of the Corleone crime f...   \n",
      "6                    23  A young girl, Chihiro, becomes trapped in a st...   \n",
      "7                    23  A tragic accident lead to Kaori's blindness, b...   \n",
      "...                 ...                                                ...   \n",
      "9930                 10  Home with their newly-formed family, happy par...   \n",
      "9952                 10  Inspired by the fictional Dr. Heiter, disturbe...   \n",
      "9963                 10  Sneaking out. Hooking up. Melting down. The ca...   \n",
      "9992                  8  A hiking trip into the wild turns into a despe...   \n",
      "9995                 10  The story follows the adventures of Aang, a yo...   \n",
      "\n",
      "      popularity release_date  vote_average  vote_count  log_popularity  \n",
      "0       0.280516   1994-09-23      2.713220       21862        4.544092  \n",
      "2       0.264028   1972-03-14      2.713220       16280        4.506289  \n",
      "4       0.108902   1974-12-20      2.582704        9811        4.056106  \n",
      "6       0.270977   2001-07-20      2.452189       13093        4.522397  \n",
      "7       0.078648   2020-10-23      2.452189         339        3.938568  \n",
      "...          ...          ...           ...         ...             ...  \n",
      "9930    0.350123   2013-04-11     -2.376882        2351        4.689594  \n",
      "9952    0.301505   2011-10-06     -2.376882        1041        4.590239  \n",
      "9963    0.182081   2022-03-25     -2.376882         259        4.293728  \n",
      "9992    0.138679   2021-09-10     -2.507397         254        4.159695  \n",
      "9995    0.300579   2010-06-30     -2.507397        3347        4.588248  \n",
      "\n",
      "[1174 rows x 10 columns]\n",
      "Lower Bound: -0.23756986889095505, Upper Bound: 0.0741648161032621\n"
     ]
    }
   ],
   "source": [
    "# 1. Outlier detection for Popularity\n",
    "outliers_popularity, lower_pop, upper_pop = detect_outliers_iqr(movies, 'popularity')\n",
    "print(f\"Outliers in Popularity: \\n{outliers_popularity}\")\n",
    "print(f\"Lower Bound: {lower_pop}, Upper Bound: {upper_pop}\")"
   ]
  },
  {
   "cell_type": "code",
   "execution_count": 32,
   "id": "e4babc13",
   "metadata": {
    "execution": {
     "iopub.execute_input": "2025-02-02T19:34:56.068808Z",
     "iopub.status.busy": "2025-02-02T19:34:56.068373Z",
     "iopub.status.idle": "2025-02-02T19:34:56.079141Z",
     "shell.execute_reply": "2025-02-02T19:34:56.077861Z"
    },
    "papermill": {
     "duration": 0.031455,
     "end_time": "2025-02-02T19:34:56.081073",
     "exception": false,
     "start_time": "2025-02-02T19:34:56.049618",
     "status": "completed"
    },
    "tags": []
   },
   "outputs": [
    {
     "name": "stdout",
     "output_type": "stream",
     "text": [
      "Outliers in Vote Average: \n",
      "Empty DataFrame\n",
      "Columns: [id, title, genre, original_language, overview, popularity, release_date, vote_average, vote_count, log_popularity]\n",
      "Index: []\n",
      "Lower Bound: -2.8336855937172403, Upper Bound: 2.908992992449471\n"
     ]
    }
   ],
   "source": [
    "# 2. Outlier detection for Vote Average\n",
    "outliers_vote_avg, lower_vote, upper_vote = detect_outliers_iqr(movies, 'vote_average')\n",
    "print(f\"Outliers in Vote Average: \\n{outliers_vote_avg}\")\n",
    "print(f\"Lower Bound: {lower_vote}, Upper Bound: {upper_vote}\")"
   ]
  },
  {
   "cell_type": "code",
   "execution_count": 33,
   "id": "eab8b673",
   "metadata": {
    "execution": {
     "iopub.execute_input": "2025-02-02T19:34:56.117502Z",
     "iopub.status.busy": "2025-02-02T19:34:56.117089Z",
     "iopub.status.idle": "2025-02-02T19:34:56.125751Z",
     "shell.execute_reply": "2025-02-02T19:34:56.124693Z"
    },
    "papermill": {
     "duration": 0.029936,
     "end_time": "2025-02-02T19:34:56.128216",
     "exception": false,
     "start_time": "2025-02-02T19:34:56.098280",
     "status": "completed"
    },
    "tags": []
   },
   "outputs": [],
   "source": [
    "# 3. Handle Outliers: Remove outliers by filtering out values outside the IQR range\n",
    "movies_cleaned = movies[\n",
    "    (movies['popularity'] >= lower_pop) & (movies['popularity'] <= upper_pop) &\n",
    "    (movies['vote_average'] >= lower_vote) & (movies['vote_average'] <= upper_vote)\n",
    "]"
   ]
  },
  {
   "cell_type": "code",
   "execution_count": 34,
   "id": "43e5f543",
   "metadata": {
    "execution": {
     "iopub.execute_input": "2025-02-02T19:34:56.164474Z",
     "iopub.status.busy": "2025-02-02T19:34:56.164023Z",
     "iopub.status.idle": "2025-02-02T19:34:56.174637Z",
     "shell.execute_reply": "2025-02-02T19:34:56.172792Z"
    },
    "papermill": {
     "duration": 0.03094,
     "end_time": "2025-02-02T19:34:56.176619",
     "exception": false,
     "start_time": "2025-02-02T19:34:56.145679",
     "status": "completed"
    },
    "tags": []
   },
   "outputs": [
    {
     "name": "stdout",
     "output_type": "stream",
     "text": [
      "Data after removing outliers:\n",
      "        id                        title                 genre  \\\n",
      "1    19404  Dilwale Dulhania Le Jayenge  Comedy,Drama,Romance   \n",
      "3      424             Schindler's List     Drama,History,War   \n",
      "5   667257            Impossible Things          Family,Drama   \n",
      "8   372754     Dou kyu sei – Classmates     Romance,Animation   \n",
      "10     389                 12 Angry Men                 Drama   \n",
      "\n",
      "    original_language                                           overview  \\\n",
      "1                  18  Raj is a rich, carefree, happy-go-lucky second...   \n",
      "3                  10  The true story of how businessman Oskar Schind...   \n",
      "5                  11  Matilde is a woman who, after the death of her...   \n",
      "8                  23  Rihito Sajo, an honor student with a perfect s...   \n",
      "10                 10  The defense and the prosecution have rested an...   \n",
      "\n",
      "    popularity release_date  vote_average  vote_count  log_popularity  \n",
      "1    -0.043885   1995-10-19      2.713220        3731        3.235064  \n",
      "3     0.047544   1993-12-15      2.582704       12959        3.801337  \n",
      "5    -0.096088   2021-06-17      2.582704         255        2.664307  \n",
      "8    -0.096433   2016-02-20      2.452189         239        2.659210  \n",
      "10   -0.012998   1957-04-10      2.452189        6533        3.464047  \n"
     ]
    }
   ],
   "source": [
    "# Display cleaned data after removing outliers\n",
    "print(\"Data after removing outliers:\")\n",
    "print(movies_cleaned.head())"
   ]
  },
  {
   "cell_type": "code",
   "execution_count": 35,
   "id": "debc41e6",
   "metadata": {
    "execution": {
     "iopub.execute_input": "2025-02-02T19:34:56.212349Z",
     "iopub.status.busy": "2025-02-02T19:34:56.211953Z",
     "iopub.status.idle": "2025-02-02T19:34:58.742901Z",
     "shell.execute_reply": "2025-02-02T19:34:58.741777Z"
    },
    "papermill": {
     "duration": 2.550704,
     "end_time": "2025-02-02T19:34:58.744751",
     "exception": false,
     "start_time": "2025-02-02T19:34:56.194047",
     "status": "completed"
    },
    "tags": []
   },
   "outputs": [
    {
     "name": "stdout",
     "output_type": "stream",
     "text": [
      "Recommended movies for 'Inception':\n",
      " 1729                           New World\n",
      "2730          Suicide Squad: Hell to Pay\n",
      "361     What Ever Happened to Baby Jane?\n",
      "7362                               House\n",
      "2135            Inception: The Cobol Job\n",
      "Name: title, dtype: object\n"
     ]
    }
   ],
   "source": [
    "from sklearn.feature_extraction.text import TfidfVectorizer\n",
    "from sklearn.metrics.pairwise import cosine_similarity\n",
    " \n",
    "\n",
    "# Selecting necessary columns\n",
    "movies = movies[['id', 'title', 'overview']].dropna()\n",
    "\n",
    "# **1. Feature Engineering: Convert Text to TF-IDF Vectors**\n",
    "tfidf = TfidfVectorizer(stop_words='english')\n",
    "tfidf_matrix = tfidf.fit_transform(movies['overview'])  \n",
    "\n",
    "# **2. Compute Similarity using Cosine Similarity**\n",
    "cosine_sim = cosine_similarity(tfidf_matrix, tfidf_matrix)\n",
    "\n",
    "# **3. Create Movie Index Mapping**\n",
    "indices = pd.Series(movies.index, index=movies['title']).drop_duplicates()\n",
    "\n",
    "# **4. Recommendation Function**\n",
    "def get_recommendations(title, cosine_sim=cosine_sim, top_n=5):\n",
    "    if title not in indices:\n",
    "        return \"Movie not found. Please check the title.\"\n",
    "\n",
    "    idx = indices[title]  \n",
    "    sim_scores = list(enumerate(cosine_sim[idx]))  \n",
    "    sim_scores = sorted(sim_scores, key=lambda x: x[1], reverse=True)  \n",
    "    sim_scores = sim_scores[1:top_n+1]  \n",
    "\n",
    "    movie_indices = [i[0] for i in sim_scores]\n",
    "    return movies['title'].iloc[movie_indices]  \n",
    "\n",
    "# **5. Model Testing**\n",
    "movie_name = \"Inception\"  \n",
    "recommendations = get_recommendations(movie_name, top_n=5)\n",
    "print(f\"Recommended movies for '{movie_name}':\\n\", recommendations)"
   ]
  },
  {
   "cell_type": "code",
   "execution_count": 36,
   "id": "d9149786",
   "metadata": {
    "execution": {
     "iopub.execute_input": "2025-02-02T19:34:58.781014Z",
     "iopub.status.busy": "2025-02-02T19:34:58.780642Z",
     "iopub.status.idle": "2025-02-02T19:34:58.851067Z",
     "shell.execute_reply": "2025-02-02T19:34:58.849675Z"
    },
    "papermill": {
     "duration": 0.090826,
     "end_time": "2025-02-02T19:34:58.853167",
     "exception": false,
     "start_time": "2025-02-02T19:34:58.762341",
     "status": "completed"
    },
    "tags": []
   },
   "outputs": [],
   "source": [
    "movies = pd.read_csv('/kaggle/input/karan-arun-mohite/top10K-TMDB-movies.csv')"
   ]
  },
  {
   "cell_type": "code",
   "execution_count": 37,
   "id": "80d6129e",
   "metadata": {
    "execution": {
     "iopub.execute_input": "2025-02-02T19:34:58.889584Z",
     "iopub.status.busy": "2025-02-02T19:34:58.889157Z",
     "iopub.status.idle": "2025-02-02T19:34:58.896570Z",
     "shell.execute_reply": "2025-02-02T19:34:58.895508Z"
    },
    "papermill": {
     "duration": 0.027981,
     "end_time": "2025-02-02T19:34:58.898316",
     "exception": false,
     "start_time": "2025-02-02T19:34:58.870335",
     "status": "completed"
    },
    "tags": []
   },
   "outputs": [
    {
     "data": {
      "text/plain": [
       "Index(['id', 'title', 'genre', 'original_language', 'overview', 'popularity',\n",
       "       'release_date', 'vote_average', 'vote_count'],\n",
       "      dtype='object')"
      ]
     },
     "execution_count": 37,
     "metadata": {},
     "output_type": "execute_result"
    }
   ],
   "source": [
    "movies.columns"
   ]
  },
  {
   "cell_type": "code",
   "execution_count": 38,
   "id": "9a3e725c",
   "metadata": {
    "execution": {
     "iopub.execute_input": "2025-02-02T19:34:58.933917Z",
     "iopub.status.busy": "2025-02-02T19:34:58.933542Z",
     "iopub.status.idle": "2025-02-02T19:34:58.947598Z",
     "shell.execute_reply": "2025-02-02T19:34:58.946377Z"
    },
    "papermill": {
     "duration": 0.034037,
     "end_time": "2025-02-02T19:34:58.949595",
     "exception": false,
     "start_time": "2025-02-02T19:34:58.915558",
     "status": "completed"
    },
    "tags": []
   },
   "outputs": [
    {
     "data": {
      "text/html": [
       "<div>\n",
       "<style scoped>\n",
       "    .dataframe tbody tr th:only-of-type {\n",
       "        vertical-align: middle;\n",
       "    }\n",
       "\n",
       "    .dataframe tbody tr th {\n",
       "        vertical-align: top;\n",
       "    }\n",
       "\n",
       "    .dataframe thead th {\n",
       "        text-align: right;\n",
       "    }\n",
       "</style>\n",
       "<table border=\"1\" class=\"dataframe\">\n",
       "  <thead>\n",
       "    <tr style=\"text-align: right;\">\n",
       "      <th></th>\n",
       "      <th>id</th>\n",
       "      <th>title</th>\n",
       "      <th>overview</th>\n",
       "      <th>genre</th>\n",
       "    </tr>\n",
       "  </thead>\n",
       "  <tbody>\n",
       "    <tr>\n",
       "      <th>0</th>\n",
       "      <td>278</td>\n",
       "      <td>The Shawshank Redemption</td>\n",
       "      <td>Framed in the 1940s for the double murder of h...</td>\n",
       "      <td>Drama,Crime</td>\n",
       "    </tr>\n",
       "    <tr>\n",
       "      <th>1</th>\n",
       "      <td>19404</td>\n",
       "      <td>Dilwale Dulhania Le Jayenge</td>\n",
       "      <td>Raj is a rich, carefree, happy-go-lucky second...</td>\n",
       "      <td>Comedy,Drama,Romance</td>\n",
       "    </tr>\n",
       "    <tr>\n",
       "      <th>2</th>\n",
       "      <td>238</td>\n",
       "      <td>The Godfather</td>\n",
       "      <td>Spanning the years 1945 to 1955, a chronicle o...</td>\n",
       "      <td>Drama,Crime</td>\n",
       "    </tr>\n",
       "    <tr>\n",
       "      <th>3</th>\n",
       "      <td>424</td>\n",
       "      <td>Schindler's List</td>\n",
       "      <td>The true story of how businessman Oskar Schind...</td>\n",
       "      <td>Drama,History,War</td>\n",
       "    </tr>\n",
       "    <tr>\n",
       "      <th>4</th>\n",
       "      <td>240</td>\n",
       "      <td>The Godfather: Part II</td>\n",
       "      <td>In the continuing saga of the Corleone crime f...</td>\n",
       "      <td>Drama,Crime</td>\n",
       "    </tr>\n",
       "    <tr>\n",
       "      <th>...</th>\n",
       "      <td>...</td>\n",
       "      <td>...</td>\n",
       "      <td>...</td>\n",
       "      <td>...</td>\n",
       "    </tr>\n",
       "    <tr>\n",
       "      <th>9995</th>\n",
       "      <td>10196</td>\n",
       "      <td>The Last Airbender</td>\n",
       "      <td>The story follows the adventures of Aang, a yo...</td>\n",
       "      <td>Action,Adventure,Fantasy</td>\n",
       "    </tr>\n",
       "    <tr>\n",
       "      <th>9996</th>\n",
       "      <td>331446</td>\n",
       "      <td>Sharknado 3: Oh Hell No!</td>\n",
       "      <td>The sharks take bite out of the East Coast whe...</td>\n",
       "      <td>Action,TV Movie,Science Fiction,Comedy,Adventure</td>\n",
       "    </tr>\n",
       "    <tr>\n",
       "      <th>9997</th>\n",
       "      <td>13995</td>\n",
       "      <td>Captain America</td>\n",
       "      <td>During World War II, a brave, patriotic Americ...</td>\n",
       "      <td>Action,Science Fiction,War</td>\n",
       "    </tr>\n",
       "    <tr>\n",
       "      <th>9998</th>\n",
       "      <td>2312</td>\n",
       "      <td>In the Name of the King: A Dungeon Siege Tale</td>\n",
       "      <td>A man named Farmer sets out to rescue his kidn...</td>\n",
       "      <td>Adventure,Fantasy,Action,Drama</td>\n",
       "    </tr>\n",
       "    <tr>\n",
       "      <th>9999</th>\n",
       "      <td>455957</td>\n",
       "      <td>Domino</td>\n",
       "      <td>Seeking justice for his partner’s murder by an...</td>\n",
       "      <td>Thriller,Action,Crime</td>\n",
       "    </tr>\n",
       "  </tbody>\n",
       "</table>\n",
       "<p>10000 rows × 4 columns</p>\n",
       "</div>"
      ],
      "text/plain": [
       "          id                                          title  \\\n",
       "0        278                       The Shawshank Redemption   \n",
       "1      19404                    Dilwale Dulhania Le Jayenge   \n",
       "2        238                                  The Godfather   \n",
       "3        424                               Schindler's List   \n",
       "4        240                         The Godfather: Part II   \n",
       "...      ...                                            ...   \n",
       "9995   10196                             The Last Airbender   \n",
       "9996  331446                       Sharknado 3: Oh Hell No!   \n",
       "9997   13995                                Captain America   \n",
       "9998    2312  In the Name of the King: A Dungeon Siege Tale   \n",
       "9999  455957                                         Domino   \n",
       "\n",
       "                                               overview  \\\n",
       "0     Framed in the 1940s for the double murder of h...   \n",
       "1     Raj is a rich, carefree, happy-go-lucky second...   \n",
       "2     Spanning the years 1945 to 1955, a chronicle o...   \n",
       "3     The true story of how businessman Oskar Schind...   \n",
       "4     In the continuing saga of the Corleone crime f...   \n",
       "...                                                 ...   \n",
       "9995  The story follows the adventures of Aang, a yo...   \n",
       "9996  The sharks take bite out of the East Coast whe...   \n",
       "9997  During World War II, a brave, patriotic Americ...   \n",
       "9998  A man named Farmer sets out to rescue his kidn...   \n",
       "9999  Seeking justice for his partner’s murder by an...   \n",
       "\n",
       "                                                 genre  \n",
       "0                                          Drama,Crime  \n",
       "1                                 Comedy,Drama,Romance  \n",
       "2                                          Drama,Crime  \n",
       "3                                    Drama,History,War  \n",
       "4                                          Drama,Crime  \n",
       "...                                                ...  \n",
       "9995                          Action,Adventure,Fantasy  \n",
       "9996  Action,TV Movie,Science Fiction,Comedy,Adventure  \n",
       "9997                        Action,Science Fiction,War  \n",
       "9998                    Adventure,Fantasy,Action,Drama  \n",
       "9999                             Thriller,Action,Crime  \n",
       "\n",
       "[10000 rows x 4 columns]"
      ]
     },
     "execution_count": 38,
     "metadata": {},
     "output_type": "execute_result"
    }
   ],
   "source": [
    "movies=movies[['id', 'title', 'overview', 'genre']]\n",
    "movies"
   ]
  },
  {
   "cell_type": "code",
   "execution_count": 39,
   "id": "9e278c3d",
   "metadata": {
    "execution": {
     "iopub.execute_input": "2025-02-02T19:34:58.986035Z",
     "iopub.status.busy": "2025-02-02T19:34:58.985666Z",
     "iopub.status.idle": "2025-02-02T19:34:59.006297Z",
     "shell.execute_reply": "2025-02-02T19:34:59.005216Z"
    },
    "papermill": {
     "duration": 0.040978,
     "end_time": "2025-02-02T19:34:59.008060",
     "exception": false,
     "start_time": "2025-02-02T19:34:58.967082",
     "status": "completed"
    },
    "tags": []
   },
   "outputs": [
    {
     "data": {
      "text/html": [
       "<div>\n",
       "<style scoped>\n",
       "    .dataframe tbody tr th:only-of-type {\n",
       "        vertical-align: middle;\n",
       "    }\n",
       "\n",
       "    .dataframe tbody tr th {\n",
       "        vertical-align: top;\n",
       "    }\n",
       "\n",
       "    .dataframe thead th {\n",
       "        text-align: right;\n",
       "    }\n",
       "</style>\n",
       "<table border=\"1\" class=\"dataframe\">\n",
       "  <thead>\n",
       "    <tr style=\"text-align: right;\">\n",
       "      <th></th>\n",
       "      <th>id</th>\n",
       "      <th>title</th>\n",
       "      <th>overview</th>\n",
       "      <th>genre</th>\n",
       "      <th>tags</th>\n",
       "    </tr>\n",
       "  </thead>\n",
       "  <tbody>\n",
       "    <tr>\n",
       "      <th>0</th>\n",
       "      <td>278</td>\n",
       "      <td>The Shawshank Redemption</td>\n",
       "      <td>Framed in the 1940s for the double murder of h...</td>\n",
       "      <td>Drama,Crime</td>\n",
       "      <td>Framed in the 1940s for the double murder of h...</td>\n",
       "    </tr>\n",
       "    <tr>\n",
       "      <th>1</th>\n",
       "      <td>19404</td>\n",
       "      <td>Dilwale Dulhania Le Jayenge</td>\n",
       "      <td>Raj is a rich, carefree, happy-go-lucky second...</td>\n",
       "      <td>Comedy,Drama,Romance</td>\n",
       "      <td>Raj is a rich, carefree, happy-go-lucky second...</td>\n",
       "    </tr>\n",
       "    <tr>\n",
       "      <th>2</th>\n",
       "      <td>238</td>\n",
       "      <td>The Godfather</td>\n",
       "      <td>Spanning the years 1945 to 1955, a chronicle o...</td>\n",
       "      <td>Drama,Crime</td>\n",
       "      <td>Spanning the years 1945 to 1955, a chronicle o...</td>\n",
       "    </tr>\n",
       "    <tr>\n",
       "      <th>3</th>\n",
       "      <td>424</td>\n",
       "      <td>Schindler's List</td>\n",
       "      <td>The true story of how businessman Oskar Schind...</td>\n",
       "      <td>Drama,History,War</td>\n",
       "      <td>The true story of how businessman Oskar Schind...</td>\n",
       "    </tr>\n",
       "    <tr>\n",
       "      <th>4</th>\n",
       "      <td>240</td>\n",
       "      <td>The Godfather: Part II</td>\n",
       "      <td>In the continuing saga of the Corleone crime f...</td>\n",
       "      <td>Drama,Crime</td>\n",
       "      <td>In the continuing saga of the Corleone crime f...</td>\n",
       "    </tr>\n",
       "    <tr>\n",
       "      <th>...</th>\n",
       "      <td>...</td>\n",
       "      <td>...</td>\n",
       "      <td>...</td>\n",
       "      <td>...</td>\n",
       "      <td>...</td>\n",
       "    </tr>\n",
       "    <tr>\n",
       "      <th>9995</th>\n",
       "      <td>10196</td>\n",
       "      <td>The Last Airbender</td>\n",
       "      <td>The story follows the adventures of Aang, a yo...</td>\n",
       "      <td>Action,Adventure,Fantasy</td>\n",
       "      <td>The story follows the adventures of Aang, a yo...</td>\n",
       "    </tr>\n",
       "    <tr>\n",
       "      <th>9996</th>\n",
       "      <td>331446</td>\n",
       "      <td>Sharknado 3: Oh Hell No!</td>\n",
       "      <td>The sharks take bite out of the East Coast whe...</td>\n",
       "      <td>Action,TV Movie,Science Fiction,Comedy,Adventure</td>\n",
       "      <td>The sharks take bite out of the East Coast whe...</td>\n",
       "    </tr>\n",
       "    <tr>\n",
       "      <th>9997</th>\n",
       "      <td>13995</td>\n",
       "      <td>Captain America</td>\n",
       "      <td>During World War II, a brave, patriotic Americ...</td>\n",
       "      <td>Action,Science Fiction,War</td>\n",
       "      <td>During World War II, a brave, patriotic Americ...</td>\n",
       "    </tr>\n",
       "    <tr>\n",
       "      <th>9998</th>\n",
       "      <td>2312</td>\n",
       "      <td>In the Name of the King: A Dungeon Siege Tale</td>\n",
       "      <td>A man named Farmer sets out to rescue his kidn...</td>\n",
       "      <td>Adventure,Fantasy,Action,Drama</td>\n",
       "      <td>A man named Farmer sets out to rescue his kidn...</td>\n",
       "    </tr>\n",
       "    <tr>\n",
       "      <th>9999</th>\n",
       "      <td>455957</td>\n",
       "      <td>Domino</td>\n",
       "      <td>Seeking justice for his partner’s murder by an...</td>\n",
       "      <td>Thriller,Action,Crime</td>\n",
       "      <td>Seeking justice for his partner’s murder by an...</td>\n",
       "    </tr>\n",
       "  </tbody>\n",
       "</table>\n",
       "<p>10000 rows × 5 columns</p>\n",
       "</div>"
      ],
      "text/plain": [
       "          id                                          title  \\\n",
       "0        278                       The Shawshank Redemption   \n",
       "1      19404                    Dilwale Dulhania Le Jayenge   \n",
       "2        238                                  The Godfather   \n",
       "3        424                               Schindler's List   \n",
       "4        240                         The Godfather: Part II   \n",
       "...      ...                                            ...   \n",
       "9995   10196                             The Last Airbender   \n",
       "9996  331446                       Sharknado 3: Oh Hell No!   \n",
       "9997   13995                                Captain America   \n",
       "9998    2312  In the Name of the King: A Dungeon Siege Tale   \n",
       "9999  455957                                         Domino   \n",
       "\n",
       "                                               overview  \\\n",
       "0     Framed in the 1940s for the double murder of h...   \n",
       "1     Raj is a rich, carefree, happy-go-lucky second...   \n",
       "2     Spanning the years 1945 to 1955, a chronicle o...   \n",
       "3     The true story of how businessman Oskar Schind...   \n",
       "4     In the continuing saga of the Corleone crime f...   \n",
       "...                                                 ...   \n",
       "9995  The story follows the adventures of Aang, a yo...   \n",
       "9996  The sharks take bite out of the East Coast whe...   \n",
       "9997  During World War II, a brave, patriotic Americ...   \n",
       "9998  A man named Farmer sets out to rescue his kidn...   \n",
       "9999  Seeking justice for his partner’s murder by an...   \n",
       "\n",
       "                                                 genre  \\\n",
       "0                                          Drama,Crime   \n",
       "1                                 Comedy,Drama,Romance   \n",
       "2                                          Drama,Crime   \n",
       "3                                    Drama,History,War   \n",
       "4                                          Drama,Crime   \n",
       "...                                                ...   \n",
       "9995                          Action,Adventure,Fantasy   \n",
       "9996  Action,TV Movie,Science Fiction,Comedy,Adventure   \n",
       "9997                        Action,Science Fiction,War   \n",
       "9998                    Adventure,Fantasy,Action,Drama   \n",
       "9999                             Thriller,Action,Crime   \n",
       "\n",
       "                                                   tags  \n",
       "0     Framed in the 1940s for the double murder of h...  \n",
       "1     Raj is a rich, carefree, happy-go-lucky second...  \n",
       "2     Spanning the years 1945 to 1955, a chronicle o...  \n",
       "3     The true story of how businessman Oskar Schind...  \n",
       "4     In the continuing saga of the Corleone crime f...  \n",
       "...                                                 ...  \n",
       "9995  The story follows the adventures of Aang, a yo...  \n",
       "9996  The sharks take bite out of the East Coast whe...  \n",
       "9997  During World War II, a brave, patriotic Americ...  \n",
       "9998  A man named Farmer sets out to rescue his kidn...  \n",
       "9999  Seeking justice for his partner’s murder by an...  \n",
       "\n",
       "[10000 rows x 5 columns]"
      ]
     },
     "execution_count": 39,
     "metadata": {},
     "output_type": "execute_result"
    }
   ],
   "source": [
    "movies['tags'] = movies['overview']+movies['genre']\n",
    "movies"
   ]
  },
  {
   "cell_type": "code",
   "execution_count": 40,
   "id": "c0131d30",
   "metadata": {
    "execution": {
     "iopub.execute_input": "2025-02-02T19:34:59.046486Z",
     "iopub.status.busy": "2025-02-02T19:34:59.046084Z",
     "iopub.status.idle": "2025-02-02T19:34:59.058530Z",
     "shell.execute_reply": "2025-02-02T19:34:59.057472Z"
    },
    "papermill": {
     "duration": 0.033676,
     "end_time": "2025-02-02T19:34:59.060287",
     "exception": false,
     "start_time": "2025-02-02T19:34:59.026611",
     "status": "completed"
    },
    "tags": []
   },
   "outputs": [
    {
     "data": {
      "text/html": [
       "<div>\n",
       "<style scoped>\n",
       "    .dataframe tbody tr th:only-of-type {\n",
       "        vertical-align: middle;\n",
       "    }\n",
       "\n",
       "    .dataframe tbody tr th {\n",
       "        vertical-align: top;\n",
       "    }\n",
       "\n",
       "    .dataframe thead th {\n",
       "        text-align: right;\n",
       "    }\n",
       "</style>\n",
       "<table border=\"1\" class=\"dataframe\">\n",
       "  <thead>\n",
       "    <tr style=\"text-align: right;\">\n",
       "      <th></th>\n",
       "      <th>id</th>\n",
       "      <th>title</th>\n",
       "      <th>tags</th>\n",
       "    </tr>\n",
       "  </thead>\n",
       "  <tbody>\n",
       "    <tr>\n",
       "      <th>0</th>\n",
       "      <td>278</td>\n",
       "      <td>The Shawshank Redemption</td>\n",
       "      <td>Framed in the 1940s for the double murder of h...</td>\n",
       "    </tr>\n",
       "    <tr>\n",
       "      <th>1</th>\n",
       "      <td>19404</td>\n",
       "      <td>Dilwale Dulhania Le Jayenge</td>\n",
       "      <td>Raj is a rich, carefree, happy-go-lucky second...</td>\n",
       "    </tr>\n",
       "    <tr>\n",
       "      <th>2</th>\n",
       "      <td>238</td>\n",
       "      <td>The Godfather</td>\n",
       "      <td>Spanning the years 1945 to 1955, a chronicle o...</td>\n",
       "    </tr>\n",
       "    <tr>\n",
       "      <th>3</th>\n",
       "      <td>424</td>\n",
       "      <td>Schindler's List</td>\n",
       "      <td>The true story of how businessman Oskar Schind...</td>\n",
       "    </tr>\n",
       "    <tr>\n",
       "      <th>4</th>\n",
       "      <td>240</td>\n",
       "      <td>The Godfather: Part II</td>\n",
       "      <td>In the continuing saga of the Corleone crime f...</td>\n",
       "    </tr>\n",
       "    <tr>\n",
       "      <th>...</th>\n",
       "      <td>...</td>\n",
       "      <td>...</td>\n",
       "      <td>...</td>\n",
       "    </tr>\n",
       "    <tr>\n",
       "      <th>9995</th>\n",
       "      <td>10196</td>\n",
       "      <td>The Last Airbender</td>\n",
       "      <td>The story follows the adventures of Aang, a yo...</td>\n",
       "    </tr>\n",
       "    <tr>\n",
       "      <th>9996</th>\n",
       "      <td>331446</td>\n",
       "      <td>Sharknado 3: Oh Hell No!</td>\n",
       "      <td>The sharks take bite out of the East Coast whe...</td>\n",
       "    </tr>\n",
       "    <tr>\n",
       "      <th>9997</th>\n",
       "      <td>13995</td>\n",
       "      <td>Captain America</td>\n",
       "      <td>During World War II, a brave, patriotic Americ...</td>\n",
       "    </tr>\n",
       "    <tr>\n",
       "      <th>9998</th>\n",
       "      <td>2312</td>\n",
       "      <td>In the Name of the King: A Dungeon Siege Tale</td>\n",
       "      <td>A man named Farmer sets out to rescue his kidn...</td>\n",
       "    </tr>\n",
       "    <tr>\n",
       "      <th>9999</th>\n",
       "      <td>455957</td>\n",
       "      <td>Domino</td>\n",
       "      <td>Seeking justice for his partner’s murder by an...</td>\n",
       "    </tr>\n",
       "  </tbody>\n",
       "</table>\n",
       "<p>10000 rows × 3 columns</p>\n",
       "</div>"
      ],
      "text/plain": [
       "          id                                          title  \\\n",
       "0        278                       The Shawshank Redemption   \n",
       "1      19404                    Dilwale Dulhania Le Jayenge   \n",
       "2        238                                  The Godfather   \n",
       "3        424                               Schindler's List   \n",
       "4        240                         The Godfather: Part II   \n",
       "...      ...                                            ...   \n",
       "9995   10196                             The Last Airbender   \n",
       "9996  331446                       Sharknado 3: Oh Hell No!   \n",
       "9997   13995                                Captain America   \n",
       "9998    2312  In the Name of the King: A Dungeon Siege Tale   \n",
       "9999  455957                                         Domino   \n",
       "\n",
       "                                                   tags  \n",
       "0     Framed in the 1940s for the double murder of h...  \n",
       "1     Raj is a rich, carefree, happy-go-lucky second...  \n",
       "2     Spanning the years 1945 to 1955, a chronicle o...  \n",
       "3     The true story of how businessman Oskar Schind...  \n",
       "4     In the continuing saga of the Corleone crime f...  \n",
       "...                                                 ...  \n",
       "9995  The story follows the adventures of Aang, a yo...  \n",
       "9996  The sharks take bite out of the East Coast whe...  \n",
       "9997  During World War II, a brave, patriotic Americ...  \n",
       "9998  A man named Farmer sets out to rescue his kidn...  \n",
       "9999  Seeking justice for his partner’s murder by an...  \n",
       "\n",
       "[10000 rows x 3 columns]"
      ]
     },
     "execution_count": 40,
     "metadata": {},
     "output_type": "execute_result"
    }
   ],
   "source": [
    "new_data  = movies.drop(columns=['overview', 'genre'])\n",
    "new_data"
   ]
  },
  {
   "cell_type": "code",
   "execution_count": 41,
   "id": "13ccb0bd",
   "metadata": {
    "execution": {
     "iopub.execute_input": "2025-02-02T19:34:59.098609Z",
     "iopub.status.busy": "2025-02-02T19:34:59.098212Z",
     "iopub.status.idle": "2025-02-02T19:34:59.102724Z",
     "shell.execute_reply": "2025-02-02T19:34:59.101543Z"
    },
    "papermill": {
     "duration": 0.025808,
     "end_time": "2025-02-02T19:34:59.104599",
     "exception": false,
     "start_time": "2025-02-02T19:34:59.078791",
     "status": "completed"
    },
    "tags": []
   },
   "outputs": [],
   "source": [
    "from sklearn.feature_extraction.text import CountVectorizer"
   ]
  },
  {
   "cell_type": "code",
   "execution_count": 42,
   "id": "ff137ecc",
   "metadata": {
    "execution": {
     "iopub.execute_input": "2025-02-02T19:34:59.142381Z",
     "iopub.status.busy": "2025-02-02T19:34:59.142047Z",
     "iopub.status.idle": "2025-02-02T19:34:59.154438Z",
     "shell.execute_reply": "2025-02-02T19:34:59.153334Z"
    },
    "papermill": {
     "duration": 0.033325,
     "end_time": "2025-02-02T19:34:59.156223",
     "exception": false,
     "start_time": "2025-02-02T19:34:59.122898",
     "status": "completed"
    },
    "tags": []
   },
   "outputs": [
    {
     "data": {
      "text/html": [
       "<style>#sk-container-id-1 {color: black;background-color: white;}#sk-container-id-1 pre{padding: 0;}#sk-container-id-1 div.sk-toggleable {background-color: white;}#sk-container-id-1 label.sk-toggleable__label {cursor: pointer;display: block;width: 100%;margin-bottom: 0;padding: 0.3em;box-sizing: border-box;text-align: center;}#sk-container-id-1 label.sk-toggleable__label-arrow:before {content: \"▸\";float: left;margin-right: 0.25em;color: #696969;}#sk-container-id-1 label.sk-toggleable__label-arrow:hover:before {color: black;}#sk-container-id-1 div.sk-estimator:hover label.sk-toggleable__label-arrow:before {color: black;}#sk-container-id-1 div.sk-toggleable__content {max-height: 0;max-width: 0;overflow: hidden;text-align: left;background-color: #f0f8ff;}#sk-container-id-1 div.sk-toggleable__content pre {margin: 0.2em;color: black;border-radius: 0.25em;background-color: #f0f8ff;}#sk-container-id-1 input.sk-toggleable__control:checked~div.sk-toggleable__content {max-height: 200px;max-width: 100%;overflow: auto;}#sk-container-id-1 input.sk-toggleable__control:checked~label.sk-toggleable__label-arrow:before {content: \"▾\";}#sk-container-id-1 div.sk-estimator input.sk-toggleable__control:checked~label.sk-toggleable__label {background-color: #d4ebff;}#sk-container-id-1 div.sk-label input.sk-toggleable__control:checked~label.sk-toggleable__label {background-color: #d4ebff;}#sk-container-id-1 input.sk-hidden--visually {border: 0;clip: rect(1px 1px 1px 1px);clip: rect(1px, 1px, 1px, 1px);height: 1px;margin: -1px;overflow: hidden;padding: 0;position: absolute;width: 1px;}#sk-container-id-1 div.sk-estimator {font-family: monospace;background-color: #f0f8ff;border: 1px dotted black;border-radius: 0.25em;box-sizing: border-box;margin-bottom: 0.5em;}#sk-container-id-1 div.sk-estimator:hover {background-color: #d4ebff;}#sk-container-id-1 div.sk-parallel-item::after {content: \"\";width: 100%;border-bottom: 1px solid gray;flex-grow: 1;}#sk-container-id-1 div.sk-label:hover label.sk-toggleable__label {background-color: #d4ebff;}#sk-container-id-1 div.sk-serial::before {content: \"\";position: absolute;border-left: 1px solid gray;box-sizing: border-box;top: 0;bottom: 0;left: 50%;z-index: 0;}#sk-container-id-1 div.sk-serial {display: flex;flex-direction: column;align-items: center;background-color: white;padding-right: 0.2em;padding-left: 0.2em;position: relative;}#sk-container-id-1 div.sk-item {position: relative;z-index: 1;}#sk-container-id-1 div.sk-parallel {display: flex;align-items: stretch;justify-content: center;background-color: white;position: relative;}#sk-container-id-1 div.sk-item::before, #sk-container-id-1 div.sk-parallel-item::before {content: \"\";position: absolute;border-left: 1px solid gray;box-sizing: border-box;top: 0;bottom: 0;left: 50%;z-index: -1;}#sk-container-id-1 div.sk-parallel-item {display: flex;flex-direction: column;z-index: 1;position: relative;background-color: white;}#sk-container-id-1 div.sk-parallel-item:first-child::after {align-self: flex-end;width: 50%;}#sk-container-id-1 div.sk-parallel-item:last-child::after {align-self: flex-start;width: 50%;}#sk-container-id-1 div.sk-parallel-item:only-child::after {width: 0;}#sk-container-id-1 div.sk-dashed-wrapped {border: 1px dashed gray;margin: 0 0.4em 0.5em 0.4em;box-sizing: border-box;padding-bottom: 0.4em;background-color: white;}#sk-container-id-1 div.sk-label label {font-family: monospace;font-weight: bold;display: inline-block;line-height: 1.2em;}#sk-container-id-1 div.sk-label-container {text-align: center;}#sk-container-id-1 div.sk-container {/* jupyter's `normalize.less` sets `[hidden] { display: none; }` but bootstrap.min.css set `[hidden] { display: none !important; }` so we also need the `!important` here to be able to override the default hidden behavior on the sphinx rendered scikit-learn.org. See: https://github.com/scikit-learn/scikit-learn/issues/21755 */display: inline-block !important;position: relative;}#sk-container-id-1 div.sk-text-repr-fallback {display: none;}</style><div id=\"sk-container-id-1\" class=\"sk-top-container\"><div class=\"sk-text-repr-fallback\"><pre>CountVectorizer(max_features=10000, stop_words=&#x27;english&#x27;)</pre><b>In a Jupyter environment, please rerun this cell to show the HTML representation or trust the notebook. <br />On GitHub, the HTML representation is unable to render, please try loading this page with nbviewer.org.</b></div><div class=\"sk-container\" hidden><div class=\"sk-item\"><div class=\"sk-estimator sk-toggleable\"><input class=\"sk-toggleable__control sk-hidden--visually\" id=\"sk-estimator-id-1\" type=\"checkbox\" checked><label for=\"sk-estimator-id-1\" class=\"sk-toggleable__label sk-toggleable__label-arrow\">CountVectorizer</label><div class=\"sk-toggleable__content\"><pre>CountVectorizer(max_features=10000, stop_words=&#x27;english&#x27;)</pre></div></div></div></div></div>"
      ],
      "text/plain": [
       "CountVectorizer(max_features=10000, stop_words='english')"
      ]
     },
     "execution_count": 42,
     "metadata": {},
     "output_type": "execute_result"
    }
   ],
   "source": [
    "cv=CountVectorizer(max_features=10000, stop_words='english')\n",
    "cv"
   ]
  },
  {
   "cell_type": "code",
   "execution_count": 43,
   "id": "a10bbb71",
   "metadata": {
    "execution": {
     "iopub.execute_input": "2025-02-02T19:34:59.193832Z",
     "iopub.status.busy": "2025-02-02T19:34:59.193473Z",
     "iopub.status.idle": "2025-02-02T19:35:00.177992Z",
     "shell.execute_reply": "2025-02-02T19:35:00.176521Z"
    },
    "papermill": {
     "duration": 1.005385,
     "end_time": "2025-02-02T19:35:00.179913",
     "exception": false,
     "start_time": "2025-02-02T19:34:59.174528",
     "status": "completed"
    },
    "tags": []
   },
   "outputs": [
    {
     "data": {
      "text/plain": [
       "(10000, 10000)"
      ]
     },
     "execution_count": 43,
     "metadata": {},
     "output_type": "execute_result"
    }
   ],
   "source": [
    "vector=cv.fit_transform(new_data['tags'].values.astype('U')).toarray()\n",
    "vector.shape"
   ]
  },
  {
   "cell_type": "code",
   "execution_count": 44,
   "id": "3eb8cafb",
   "metadata": {
    "execution": {
     "iopub.execute_input": "2025-02-02T19:35:00.219997Z",
     "iopub.status.busy": "2025-02-02T19:35:00.219620Z",
     "iopub.status.idle": "2025-02-02T19:35:00.224208Z",
     "shell.execute_reply": "2025-02-02T19:35:00.222872Z"
    },
    "papermill": {
     "duration": 0.026767,
     "end_time": "2025-02-02T19:35:00.225874",
     "exception": false,
     "start_time": "2025-02-02T19:35:00.199107",
     "status": "completed"
    },
    "tags": []
   },
   "outputs": [],
   "source": [
    "from sklearn.metrics.pairwise import cosine_similarity"
   ]
  },
  {
   "cell_type": "code",
   "execution_count": 45,
   "id": "d096230c",
   "metadata": {
    "execution": {
     "iopub.execute_input": "2025-02-02T19:35:00.264133Z",
     "iopub.status.busy": "2025-02-02T19:35:00.263785Z",
     "iopub.status.idle": "2025-02-02T19:35:15.745292Z",
     "shell.execute_reply": "2025-02-02T19:35:15.744188Z"
    },
    "papermill": {
     "duration": 15.502677,
     "end_time": "2025-02-02T19:35:15.747179",
     "exception": false,
     "start_time": "2025-02-02T19:35:00.244502",
     "status": "completed"
    },
    "tags": []
   },
   "outputs": [],
   "source": [
    "similarity=cosine_similarity(vector)"
   ]
  },
  {
   "cell_type": "code",
   "execution_count": 46,
   "id": "35f2fff0",
   "metadata": {
    "execution": {
     "iopub.execute_input": "2025-02-02T19:35:15.786889Z",
     "iopub.status.busy": "2025-02-02T19:35:15.786522Z",
     "iopub.status.idle": "2025-02-02T19:35:15.793059Z",
     "shell.execute_reply": "2025-02-02T19:35:15.791880Z"
    },
    "papermill": {
     "duration": 0.028526,
     "end_time": "2025-02-02T19:35:15.794879",
     "exception": false,
     "start_time": "2025-02-02T19:35:15.766353",
     "status": "completed"
    },
    "tags": []
   },
   "outputs": [
    {
     "data": {
      "text/plain": [
       "array([[1.        , 0.05634362, 0.12888482, ..., 0.07559289, 0.11065667,\n",
       "        0.06388766],\n",
       "       [0.05634362, 1.        , 0.07624929, ..., 0.        , 0.03636965,\n",
       "        0.        ],\n",
       "       [0.12888482, 0.07624929, 1.        , ..., 0.02273314, 0.06655583,\n",
       "        0.08645856],\n",
       "       ...,\n",
       "       [0.07559289, 0.        , 0.02273314, ..., 1.        , 0.03253   ,\n",
       "        0.02817181],\n",
       "       [0.11065667, 0.03636965, 0.06655583, ..., 0.03253   , 1.        ,\n",
       "        0.0412393 ],\n",
       "       [0.06388766, 0.        , 0.08645856, ..., 0.02817181, 0.0412393 ,\n",
       "        1.        ]])"
      ]
     },
     "execution_count": 46,
     "metadata": {},
     "output_type": "execute_result"
    }
   ],
   "source": [
    "similarity"
   ]
  },
  {
   "cell_type": "code",
   "execution_count": 47,
   "id": "a73aaae3",
   "metadata": {
    "execution": {
     "iopub.execute_input": "2025-02-02T19:35:15.832799Z",
     "iopub.status.busy": "2025-02-02T19:35:15.832366Z",
     "iopub.status.idle": "2025-02-02T19:35:15.840493Z",
     "shell.execute_reply": "2025-02-02T19:35:15.839512Z"
    },
    "papermill": {
     "duration": 0.028996,
     "end_time": "2025-02-02T19:35:15.842206",
     "exception": false,
     "start_time": "2025-02-02T19:35:15.813210",
     "status": "completed"
    },
    "tags": []
   },
   "outputs": [
    {
     "data": {
      "text/plain": [
       "2"
      ]
     },
     "execution_count": 47,
     "metadata": {},
     "output_type": "execute_result"
    }
   ],
   "source": [
    "new_data[new_data['title']==\"The Godfather\"].index[0]"
   ]
  },
  {
   "cell_type": "code",
   "execution_count": 48,
   "id": "4e21315f",
   "metadata": {
    "execution": {
     "iopub.execute_input": "2025-02-02T19:35:15.881326Z",
     "iopub.status.busy": "2025-02-02T19:35:15.880963Z",
     "iopub.status.idle": "2025-02-02T19:35:15.895950Z",
     "shell.execute_reply": "2025-02-02T19:35:15.894791Z"
    },
    "papermill": {
     "duration": 0.036277,
     "end_time": "2025-02-02T19:35:15.897651",
     "exception": false,
     "start_time": "2025-02-02T19:35:15.861374",
     "status": "completed"
    },
    "tags": []
   },
   "outputs": [
    {
     "name": "stdout",
     "output_type": "stream",
     "text": [
      "The Godfather\n",
      "The Godfather: Part II\n",
      "Blood Ties\n",
      "Joker\n",
      "Bomb City\n"
     ]
    }
   ],
   "source": [
    "distance = sorted(list(enumerate(similarity[2])), reverse=True, key=lambda vector:vector[1])\n",
    "for i in distance[0:5]:\n",
    "    print(new_data.iloc[i[0]].title)"
   ]
  },
  {
   "cell_type": "code",
   "execution_count": 49,
   "id": "cf634709",
   "metadata": {
    "execution": {
     "iopub.execute_input": "2025-02-02T19:35:15.937086Z",
     "iopub.status.busy": "2025-02-02T19:35:15.936739Z",
     "iopub.status.idle": "2025-02-02T19:35:15.942085Z",
     "shell.execute_reply": "2025-02-02T19:35:15.940923Z"
    },
    "papermill": {
     "duration": 0.02664,
     "end_time": "2025-02-02T19:35:15.943846",
     "exception": false,
     "start_time": "2025-02-02T19:35:15.917206",
     "status": "completed"
    },
    "tags": []
   },
   "outputs": [],
   "source": [
    "def recommand(movies):\n",
    "    index=new_data[new_data['title']==movies].index[0]\n",
    "    distance = sorted(list(enumerate(similarity[index])), reverse=True, key=lambda vector:vector[1])\n",
    "    for i in distance[0:5]:\n",
    "        print(new_data.iloc[i[0]].title)"
   ]
  },
  {
   "cell_type": "code",
   "execution_count": 50,
   "id": "dafaa85b",
   "metadata": {
    "execution": {
     "iopub.execute_input": "2025-02-02T19:35:15.982131Z",
     "iopub.status.busy": "2025-02-02T19:35:15.981722Z",
     "iopub.status.idle": "2025-02-02T19:35:15.995900Z",
     "shell.execute_reply": "2025-02-02T19:35:15.994619Z"
    },
    "papermill": {
     "duration": 0.035319,
     "end_time": "2025-02-02T19:35:15.997569",
     "exception": false,
     "start_time": "2025-02-02T19:35:15.962250",
     "status": "completed"
    },
    "tags": []
   },
   "outputs": [
    {
     "name": "stdout",
     "output_type": "stream",
     "text": [
      "Iron Man\n",
      "Iron Man 3\n",
      "Guardians of the Galaxy Vol. 2\n",
      "Avengers: Age of Ultron\n",
      "Star Wars: Episode III - Revenge of the Sith\n"
     ]
    }
   ],
   "source": [
    "recommand(\"Iron Man\")"
   ]
  },
  {
   "cell_type": "code",
   "execution_count": 51,
   "id": "0c0f8cb8",
   "metadata": {
    "execution": {
     "iopub.execute_input": "2025-02-02T19:35:16.036333Z",
     "iopub.status.busy": "2025-02-02T19:35:16.035975Z",
     "iopub.status.idle": "2025-02-02T19:35:16.051077Z",
     "shell.execute_reply": "2025-02-02T19:35:16.049851Z"
    },
    "papermill": {
     "duration": 0.036604,
     "end_time": "2025-02-02T19:35:16.052902",
     "exception": false,
     "start_time": "2025-02-02T19:35:16.016298",
     "status": "completed"
    },
    "tags": []
   },
   "outputs": [
    {
     "name": "stdout",
     "output_type": "stream",
     "text": [
      "Love\n",
      "Hotel Chevalier\n",
      "Adam\n",
      "Last Tango in Paris\n",
      "Mr. Morgan's Last Love\n"
     ]
    }
   ],
   "source": [
    "recommand(\"Love\")"
   ]
  },
  {
   "cell_type": "code",
   "execution_count": 52,
   "id": "651afa7f",
   "metadata": {
    "execution": {
     "iopub.execute_input": "2025-02-02T19:35:16.092177Z",
     "iopub.status.busy": "2025-02-02T19:35:16.091818Z",
     "iopub.status.idle": "2025-02-02T19:35:16.096017Z",
     "shell.execute_reply": "2025-02-02T19:35:16.094925Z"
    },
    "papermill": {
     "duration": 0.025868,
     "end_time": "2025-02-02T19:35:16.097720",
     "exception": false,
     "start_time": "2025-02-02T19:35:16.071852",
     "status": "completed"
    },
    "tags": []
   },
   "outputs": [],
   "source": [
    "import pickle"
   ]
  },
  {
   "cell_type": "code",
   "execution_count": 53,
   "id": "8eccb035",
   "metadata": {
    "execution": {
     "iopub.execute_input": "2025-02-02T19:35:16.136098Z",
     "iopub.status.busy": "2025-02-02T19:35:16.135714Z",
     "iopub.status.idle": "2025-02-02T19:35:16.149413Z",
     "shell.execute_reply": "2025-02-02T19:35:16.148382Z"
    },
    "papermill": {
     "duration": 0.034937,
     "end_time": "2025-02-02T19:35:16.151265",
     "exception": false,
     "start_time": "2025-02-02T19:35:16.116328",
     "status": "completed"
    },
    "tags": []
   },
   "outputs": [],
   "source": [
    "pickle.dump(new_data, open('movies_list.pkl', 'wb'))"
   ]
  },
  {
   "cell_type": "code",
   "execution_count": 54,
   "id": "285ea776",
   "metadata": {
    "execution": {
     "iopub.execute_input": "2025-02-02T19:35:16.190590Z",
     "iopub.status.busy": "2025-02-02T19:35:16.190207Z",
     "iopub.status.idle": "2025-02-02T19:35:17.498958Z",
     "shell.execute_reply": "2025-02-02T19:35:17.497695Z"
    },
    "papermill": {
     "duration": 1.331412,
     "end_time": "2025-02-02T19:35:17.501236",
     "exception": false,
     "start_time": "2025-02-02T19:35:16.169824",
     "status": "completed"
    },
    "tags": []
   },
   "outputs": [],
   "source": [
    "pickle.dump(similarity, open('similarity.pkl', 'wb'))"
   ]
  },
  {
   "cell_type": "code",
   "execution_count": 55,
   "id": "6d025db2",
   "metadata": {
    "execution": {
     "iopub.execute_input": "2025-02-02T19:35:17.595727Z",
     "iopub.status.busy": "2025-02-02T19:35:17.595316Z",
     "iopub.status.idle": "2025-02-02T19:35:17.613951Z",
     "shell.execute_reply": "2025-02-02T19:35:17.612681Z"
    },
    "papermill": {
     "duration": 0.04063,
     "end_time": "2025-02-02T19:35:17.615871",
     "exception": false,
     "start_time": "2025-02-02T19:35:17.575241",
     "status": "completed"
    },
    "tags": []
   },
   "outputs": [
    {
     "data": {
      "text/html": [
       "<div>\n",
       "<style scoped>\n",
       "    .dataframe tbody tr th:only-of-type {\n",
       "        vertical-align: middle;\n",
       "    }\n",
       "\n",
       "    .dataframe tbody tr th {\n",
       "        vertical-align: top;\n",
       "    }\n",
       "\n",
       "    .dataframe thead th {\n",
       "        text-align: right;\n",
       "    }\n",
       "</style>\n",
       "<table border=\"1\" class=\"dataframe\">\n",
       "  <thead>\n",
       "    <tr style=\"text-align: right;\">\n",
       "      <th></th>\n",
       "      <th>id</th>\n",
       "      <th>title</th>\n",
       "      <th>tags</th>\n",
       "    </tr>\n",
       "  </thead>\n",
       "  <tbody>\n",
       "    <tr>\n",
       "      <th>0</th>\n",
       "      <td>278</td>\n",
       "      <td>The Shawshank Redemption</td>\n",
       "      <td>Framed in the 1940s for the double murder of h...</td>\n",
       "    </tr>\n",
       "    <tr>\n",
       "      <th>1</th>\n",
       "      <td>19404</td>\n",
       "      <td>Dilwale Dulhania Le Jayenge</td>\n",
       "      <td>Raj is a rich, carefree, happy-go-lucky second...</td>\n",
       "    </tr>\n",
       "    <tr>\n",
       "      <th>2</th>\n",
       "      <td>238</td>\n",
       "      <td>The Godfather</td>\n",
       "      <td>Spanning the years 1945 to 1955, a chronicle o...</td>\n",
       "    </tr>\n",
       "    <tr>\n",
       "      <th>3</th>\n",
       "      <td>424</td>\n",
       "      <td>Schindler's List</td>\n",
       "      <td>The true story of how businessman Oskar Schind...</td>\n",
       "    </tr>\n",
       "    <tr>\n",
       "      <th>4</th>\n",
       "      <td>240</td>\n",
       "      <td>The Godfather: Part II</td>\n",
       "      <td>In the continuing saga of the Corleone crime f...</td>\n",
       "    </tr>\n",
       "    <tr>\n",
       "      <th>...</th>\n",
       "      <td>...</td>\n",
       "      <td>...</td>\n",
       "      <td>...</td>\n",
       "    </tr>\n",
       "    <tr>\n",
       "      <th>9995</th>\n",
       "      <td>10196</td>\n",
       "      <td>The Last Airbender</td>\n",
       "      <td>The story follows the adventures of Aang, a yo...</td>\n",
       "    </tr>\n",
       "    <tr>\n",
       "      <th>9996</th>\n",
       "      <td>331446</td>\n",
       "      <td>Sharknado 3: Oh Hell No!</td>\n",
       "      <td>The sharks take bite out of the East Coast whe...</td>\n",
       "    </tr>\n",
       "    <tr>\n",
       "      <th>9997</th>\n",
       "      <td>13995</td>\n",
       "      <td>Captain America</td>\n",
       "      <td>During World War II, a brave, patriotic Americ...</td>\n",
       "    </tr>\n",
       "    <tr>\n",
       "      <th>9998</th>\n",
       "      <td>2312</td>\n",
       "      <td>In the Name of the King: A Dungeon Siege Tale</td>\n",
       "      <td>A man named Farmer sets out to rescue his kidn...</td>\n",
       "    </tr>\n",
       "    <tr>\n",
       "      <th>9999</th>\n",
       "      <td>455957</td>\n",
       "      <td>Domino</td>\n",
       "      <td>Seeking justice for his partner’s murder by an...</td>\n",
       "    </tr>\n",
       "  </tbody>\n",
       "</table>\n",
       "<p>10000 rows × 3 columns</p>\n",
       "</div>"
      ],
      "text/plain": [
       "          id                                          title  \\\n",
       "0        278                       The Shawshank Redemption   \n",
       "1      19404                    Dilwale Dulhania Le Jayenge   \n",
       "2        238                                  The Godfather   \n",
       "3        424                               Schindler's List   \n",
       "4        240                         The Godfather: Part II   \n",
       "...      ...                                            ...   \n",
       "9995   10196                             The Last Airbender   \n",
       "9996  331446                       Sharknado 3: Oh Hell No!   \n",
       "9997   13995                                Captain America   \n",
       "9998    2312  In the Name of the King: A Dungeon Siege Tale   \n",
       "9999  455957                                         Domino   \n",
       "\n",
       "                                                   tags  \n",
       "0     Framed in the 1940s for the double murder of h...  \n",
       "1     Raj is a rich, carefree, happy-go-lucky second...  \n",
       "2     Spanning the years 1945 to 1955, a chronicle o...  \n",
       "3     The true story of how businessman Oskar Schind...  \n",
       "4     In the continuing saga of the Corleone crime f...  \n",
       "...                                                 ...  \n",
       "9995  The story follows the adventures of Aang, a yo...  \n",
       "9996  The sharks take bite out of the East Coast whe...  \n",
       "9997  During World War II, a brave, patriotic Americ...  \n",
       "9998  A man named Farmer sets out to rescue his kidn...  \n",
       "9999  Seeking justice for his partner’s murder by an...  \n",
       "\n",
       "[10000 rows x 3 columns]"
      ]
     },
     "execution_count": 55,
     "metadata": {},
     "output_type": "execute_result"
    }
   ],
   "source": [
    "pickle.load(open('movies_list.pkl', 'rb'))"
   ]
  },
  {
   "cell_type": "code",
   "execution_count": 56,
   "id": "0ce17fe3",
   "metadata": {
    "execution": {
     "iopub.execute_input": "2025-02-02T19:35:17.655510Z",
     "iopub.status.busy": "2025-02-02T19:35:17.655099Z",
     "iopub.status.idle": "2025-02-02T19:35:17.670720Z",
     "shell.execute_reply": "2025-02-02T19:35:17.669576Z"
    },
    "papermill": {
     "duration": 0.037871,
     "end_time": "2025-02-02T19:35:17.672849",
     "exception": false,
     "start_time": "2025-02-02T19:35:17.634978",
     "status": "completed"
    },
    "tags": []
   },
   "outputs": [
    {
     "name": "stdout",
     "output_type": "stream",
     "text": [
      "Domino\n",
      "One for the Money\n",
      "Man on the Moon\n",
      "Batman: Hush\n",
      "Twelve\n"
     ]
    }
   ],
   "source": [
    "recommand(\"Domino\")"
   ]
  },
  {
   "cell_type": "code",
   "execution_count": 57,
   "id": "50a425a8",
   "metadata": {
    "execution": {
     "iopub.execute_input": "2025-02-02T19:35:17.715728Z",
     "iopub.status.busy": "2025-02-02T19:35:17.715316Z",
     "iopub.status.idle": "2025-02-02T19:35:17.730527Z",
     "shell.execute_reply": "2025-02-02T19:35:17.729010Z"
    },
    "papermill": {
     "duration": 0.039105,
     "end_time": "2025-02-02T19:35:17.732504",
     "exception": false,
     "start_time": "2025-02-02T19:35:17.693399",
     "status": "completed"
    },
    "tags": []
   },
   "outputs": [
    {
     "name": "stdout",
     "output_type": "stream",
     "text": [
      "Avatar\n",
      "Krull\n",
      "Small Soldiers\n",
      "Predator\n",
      "Iron Man 3\n"
     ]
    }
   ],
   "source": [
    "recommand(\"Avatar\")"
   ]
  },
  {
   "cell_type": "code",
   "execution_count": 58,
   "id": "597edd78",
   "metadata": {
    "execution": {
     "iopub.execute_input": "2025-02-02T19:35:17.772987Z",
     "iopub.status.busy": "2025-02-02T19:35:17.772609Z",
     "iopub.status.idle": "2025-02-02T19:35:17.789446Z",
     "shell.execute_reply": "2025-02-02T19:35:17.787658Z"
    },
    "papermill": {
     "duration": 0.038894,
     "end_time": "2025-02-02T19:35:17.791445",
     "exception": false,
     "start_time": "2025-02-02T19:35:17.752551",
     "status": "completed"
    },
    "tags": []
   },
   "outputs": [
    {
     "name": "stdout",
     "output_type": "stream",
     "text": [
      "The Godfather\n",
      "The Godfather: Part II\n",
      "Blood Ties\n",
      "Joker\n",
      "Bomb City\n"
     ]
    }
   ],
   "source": [
    "recommand(\"The Godfather\")"
   ]
  }
 ],
 "metadata": {
  "kaggle": {
   "accelerator": "none",
   "dataSources": [
    {
     "datasetId": 6591252,
     "sourceId": 10644923,
     "sourceType": "datasetVersion"
    }
   ],
   "dockerImageVersionId": 30839,
   "isGpuEnabled": false,
   "isInternetEnabled": false,
   "language": "python",
   "sourceType": "notebook"
  },
  "kernelspec": {
   "display_name": "Python 3",
   "language": "python",
   "name": "python3"
  },
  "language_info": {
   "codemirror_mode": {
    "name": "ipython",
    "version": 3
   },
   "file_extension": ".py",
   "mimetype": "text/x-python",
   "name": "python",
   "nbconvert_exporter": "python",
   "pygments_lexer": "ipython3",
   "version": "3.10.12"
  },
  "papermill": {
   "default_parameters": {},
   "duration": 31.482785,
   "end_time": "2025-02-02T19:35:18.632662",
   "environment_variables": {},
   "exception": null,
   "input_path": "__notebook__.ipynb",
   "output_path": "__notebook__.ipynb",
   "parameters": {},
   "start_time": "2025-02-02T19:34:47.149877",
   "version": "2.6.0"
  }
 },
 "nbformat": 4,
 "nbformat_minor": 5
}
